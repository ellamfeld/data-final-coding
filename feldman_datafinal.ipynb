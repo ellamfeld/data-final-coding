{
 "cells": [
  {
   "cell_type": "markdown",
   "id": "4403915a-3f70-4d9c-bbfd-fd00ff037d64",
   "metadata": {},
   "source": [
    "## Analysis of Bus Delay Data, 2021-2025\n",
    "#### By Ella Feldman\n",
    "#### Final project for Advanced Data Reporting, spring 2025"
   ]
  },
  {
   "cell_type": "markdown",
   "id": "cc702465-77ea-4978-a9f1-8fb81e94688a",
   "metadata": {},
   "source": [
    "For my final project, I will be analyzing bus breakdown and delay data published by the Department of Education (DOE) on NYC OpenData. The data is available [here](https://data.cityofnewyork.us/Transportation/Bus-Breakdown-and-Delays/ez4e-fazm/about_data). I am using the data available through Monday, May 19."
   ]
  },
  {
   "cell_type": "markdown",
   "id": "66982d61-2952-44e9-ab36-fdf3609864f1",
   "metadata": {},
   "source": [
    "I want to answer the following questions:"
   ]
  },
  {
   "cell_type": "markdown",
   "id": "b747fac6-62b7-4d68-922a-6371ba368e46",
   "metadata": {},
   "source": [
    "1. Of the four school years I am analyzing, which year had the most delays?\n",
    "2. What was the average daily delay per year?\n",
    "3. For the 2024-2025 school year, what was the most frequent delay length?\n",
    "4. For the 2024-2025 school year, what was the most frequent reason for a delay?\n",
    "5. For the 2024-2025 school year, what bus company was responsible for the most delays?\n",
    "6. For the 2024-2025 school year, what was the average number of students on the school bus for each delay?\n",
    "7. For the 2024-2025 school year, what was the most frequent run type to have delays or breakdowns?\n",
    "8. For the 2024-2025 school year, what has been the daily average of delays per month?"
   ]
  },
  {
   "cell_type": "code",
   "execution_count": 481,
   "id": "891a085e-ee8a-4ac5-a0f9-eff0fa0f54ce",
   "metadata": {},
   "outputs": [],
   "source": [
    "## First, I'll import my libraries.\n",
    "\n",
    "import pandas as pd"
   ]
  },
  {
   "cell_type": "code",
   "execution_count": 673,
   "id": "509460ef-687f-40bd-8337-add1972d5b70",
   "metadata": {},
   "outputs": [],
   "source": [
    "## Next, I'll run my display code to round to zero decimal places.\n",
    "\n",
    "pd.options.display.float_format = '{:,.0f}'.format"
   ]
  },
  {
   "cell_type": "code",
   "execution_count": 675,
   "id": "fa0f1a70-abef-4e56-a245-b3db4e4e19e5",
   "metadata": {},
   "outputs": [],
   "source": [
    "## Now, I'll import my data.\n",
    "\n",
    "df = pd.read_csv('feldman_busdelays.csv')"
   ]
  },
  {
   "cell_type": "code",
   "execution_count": 484,
   "id": "2f348730-d365-4cfc-bb74-dac7a4fd84c8",
   "metadata": {},
   "outputs": [
    {
     "data": {
      "text/html": [
       "<div>\n",
       "<style scoped>\n",
       "    .dataframe tbody tr th:only-of-type {\n",
       "        vertical-align: middle;\n",
       "    }\n",
       "\n",
       "    .dataframe tbody tr th {\n",
       "        vertical-align: top;\n",
       "    }\n",
       "\n",
       "    .dataframe thead th {\n",
       "        text-align: right;\n",
       "    }\n",
       "</style>\n",
       "<table border=\"1\" class=\"dataframe\">\n",
       "  <thead>\n",
       "    <tr style=\"text-align: right;\">\n",
       "      <th></th>\n",
       "      <th>School_Year</th>\n",
       "      <th>Run_Type</th>\n",
       "      <th>Reason</th>\n",
       "      <th>Schools_Serviced</th>\n",
       "      <th>Occurred_On</th>\n",
       "      <th>Boro</th>\n",
       "      <th>Bus_Company_Name</th>\n",
       "      <th>How_Long_Delayed</th>\n",
       "      <th>Number_Of_Students_On_The_Bus</th>\n",
       "      <th>Breakdown_or_Running_Late</th>\n",
       "      <th>School_Age_or_PreK</th>\n",
       "    </tr>\n",
       "  </thead>\n",
       "  <tbody>\n",
       "    <tr>\n",
       "      <th>0</th>\n",
       "      <td>2022-2023</td>\n",
       "      <td>Special Ed AM Run</td>\n",
       "      <td>Heavy Traffic</td>\n",
       "      <td>21468,21560,21907</td>\n",
       "      <td>09/12/2022 08:10:00 AM</td>\n",
       "      <td>Brooklyn</td>\n",
       "      <td>BORO TRANSIT, INC.</td>\n",
       "      <td>16-30 Min</td>\n",
       "      <td>1</td>\n",
       "      <td>Running Late</td>\n",
       "      <td>School-Age</td>\n",
       "    </tr>\n",
       "    <tr>\n",
       "      <th>1</th>\n",
       "      <td>2022-2023</td>\n",
       "      <td>Special Ed AM Run</td>\n",
       "      <td>Heavy Traffic</td>\n",
       "      <td>12486</td>\n",
       "      <td>09/12/2022 08:25:00 AM</td>\n",
       "      <td>Bronx</td>\n",
       "      <td>PIONEER TRANSPORTATION CORP</td>\n",
       "      <td>16-30 Min</td>\n",
       "      <td>8</td>\n",
       "      <td>Running Late</td>\n",
       "      <td>School-Age</td>\n",
       "    </tr>\n",
       "    <tr>\n",
       "      <th>2</th>\n",
       "      <td>2022-2023</td>\n",
       "      <td>General Ed AM Run</td>\n",
       "      <td>Heavy Traffic</td>\n",
       "      <td>31044</td>\n",
       "      <td>09/21/2022 05:17:00 AM</td>\n",
       "      <td>Staten Island</td>\n",
       "      <td>PIONEER TRANSPORTATION CORP</td>\n",
       "      <td>16-30 Min</td>\n",
       "      <td>0</td>\n",
       "      <td>Running Late</td>\n",
       "      <td>School-Age</td>\n",
       "    </tr>\n",
       "    <tr>\n",
       "      <th>3</th>\n",
       "      <td>2022-2023</td>\n",
       "      <td>Special Ed AM Run</td>\n",
       "      <td>Other</td>\n",
       "      <td>20685,21461</td>\n",
       "      <td>09/22/2022 06:15:00 AM</td>\n",
       "      <td>Brooklyn</td>\n",
       "      <td>PRIDE TRANSPORTATION (SCH AGE)</td>\n",
       "      <td>61-90 Min</td>\n",
       "      <td>0</td>\n",
       "      <td>Running Late</td>\n",
       "      <td>School-Age</td>\n",
       "    </tr>\n",
       "    <tr>\n",
       "      <th>4</th>\n",
       "      <td>2022-2023</td>\n",
       "      <td>Special Ed AM Run</td>\n",
       "      <td>Heavy Traffic</td>\n",
       "      <td>07401,07480</td>\n",
       "      <td>09/22/2022 06:15:00 AM</td>\n",
       "      <td>Bronx</td>\n",
       "      <td>CONSOLIDATED BUS TRANSIT, INC.</td>\n",
       "      <td>31-45 Min</td>\n",
       "      <td>0</td>\n",
       "      <td>Running Late</td>\n",
       "      <td>School-Age</td>\n",
       "    </tr>\n",
       "    <tr>\n",
       "      <th>...</th>\n",
       "      <td>...</td>\n",
       "      <td>...</td>\n",
       "      <td>...</td>\n",
       "      <td>...</td>\n",
       "      <td>...</td>\n",
       "      <td>...</td>\n",
       "      <td>...</td>\n",
       "      <td>...</td>\n",
       "      <td>...</td>\n",
       "      <td>...</td>\n",
       "      <td>...</td>\n",
       "    </tr>\n",
       "    <tr>\n",
       "      <th>314261</th>\n",
       "      <td>2024-2025</td>\n",
       "      <td>Special Ed AM Run</td>\n",
       "      <td>Heavy Traffic</td>\n",
       "      <td>08015,08530</td>\n",
       "      <td>05/19/2025 06:03:00 AM</td>\n",
       "      <td>Bronx</td>\n",
       "      <td>VAN TRANS LLC (B2192)</td>\n",
       "      <td>0-15 Min</td>\n",
       "      <td>0</td>\n",
       "      <td>Running Late</td>\n",
       "      <td>School-Age</td>\n",
       "    </tr>\n",
       "    <tr>\n",
       "      <th>314262</th>\n",
       "      <td>2024-2025</td>\n",
       "      <td>Special Ed AM Run</td>\n",
       "      <td>Won`t Start</td>\n",
       "      <td>27009,27067,27202</td>\n",
       "      <td>05/19/2025 05:50:00 AM</td>\n",
       "      <td>Queens</td>\n",
       "      <td>L &amp; M BUS CORP (A)</td>\n",
       "      <td>NaN</td>\n",
       "      <td>0</td>\n",
       "      <td>Breakdown</td>\n",
       "      <td>School-Age</td>\n",
       "    </tr>\n",
       "    <tr>\n",
       "      <th>314263</th>\n",
       "      <td>2024-2025</td>\n",
       "      <td>Special Ed AM Run</td>\n",
       "      <td>Heavy Traffic</td>\n",
       "      <td>11455</td>\n",
       "      <td>05/19/2025 06:04:00 AM</td>\n",
       "      <td>Bronx</td>\n",
       "      <td>VAN TRANS LLC (B2192)</td>\n",
       "      <td>0-15 Min</td>\n",
       "      <td>0</td>\n",
       "      <td>Running Late</td>\n",
       "      <td>School-Age</td>\n",
       "    </tr>\n",
       "    <tr>\n",
       "      <th>314264</th>\n",
       "      <td>2024-2025</td>\n",
       "      <td>Special Ed AM Run</td>\n",
       "      <td>Other</td>\n",
       "      <td>13067,13461,13507,13587,13655</td>\n",
       "      <td>05/19/2025 06:04:00 AM</td>\n",
       "      <td>Brooklyn</td>\n",
       "      <td>BORO TRANSIT, INC.</td>\n",
       "      <td>16-30 Min</td>\n",
       "      <td>0</td>\n",
       "      <td>Running Late</td>\n",
       "      <td>School-Age</td>\n",
       "    </tr>\n",
       "    <tr>\n",
       "      <th>314265</th>\n",
       "      <td>2024-2025</td>\n",
       "      <td>Special Ed AM Run</td>\n",
       "      <td>Heavy Traffic</td>\n",
       "      <td>07259,07643</td>\n",
       "      <td>05/19/2025 06:05:00 AM</td>\n",
       "      <td>Bronx</td>\n",
       "      <td>VAN TRANS LLC (B2192)</td>\n",
       "      <td>0-15 Min</td>\n",
       "      <td>0</td>\n",
       "      <td>Running Late</td>\n",
       "      <td>School-Age</td>\n",
       "    </tr>\n",
       "  </tbody>\n",
       "</table>\n",
       "<p>314266 rows × 11 columns</p>\n",
       "</div>"
      ],
      "text/plain": [
       "       School_Year           Run_Type         Reason  \\\n",
       "0        2022-2023  Special Ed AM Run  Heavy Traffic   \n",
       "1        2022-2023  Special Ed AM Run  Heavy Traffic   \n",
       "2        2022-2023  General Ed AM Run  Heavy Traffic   \n",
       "3        2022-2023  Special Ed AM Run          Other   \n",
       "4        2022-2023  Special Ed AM Run  Heavy Traffic   \n",
       "...            ...                ...            ...   \n",
       "314261   2024-2025  Special Ed AM Run  Heavy Traffic   \n",
       "314262   2024-2025  Special Ed AM Run    Won`t Start   \n",
       "314263   2024-2025  Special Ed AM Run  Heavy Traffic   \n",
       "314264   2024-2025  Special Ed AM Run          Other   \n",
       "314265   2024-2025  Special Ed AM Run  Heavy Traffic   \n",
       "\n",
       "                     Schools_Serviced             Occurred_On           Boro  \\\n",
       "0                   21468,21560,21907  09/12/2022 08:10:00 AM       Brooklyn   \n",
       "1                               12486  09/12/2022 08:25:00 AM          Bronx   \n",
       "2                               31044  09/21/2022 05:17:00 AM  Staten Island   \n",
       "3                         20685,21461  09/22/2022 06:15:00 AM       Brooklyn   \n",
       "4                         07401,07480  09/22/2022 06:15:00 AM          Bronx   \n",
       "...                               ...                     ...            ...   \n",
       "314261                    08015,08530  05/19/2025 06:03:00 AM          Bronx   \n",
       "314262              27009,27067,27202  05/19/2025 05:50:00 AM         Queens   \n",
       "314263                          11455  05/19/2025 06:04:00 AM          Bronx   \n",
       "314264  13067,13461,13507,13587,13655  05/19/2025 06:04:00 AM       Brooklyn   \n",
       "314265                    07259,07643  05/19/2025 06:05:00 AM          Bronx   \n",
       "\n",
       "                      Bus_Company_Name How_Long_Delayed  \\\n",
       "0                   BORO TRANSIT, INC.        16-30 Min   \n",
       "1          PIONEER TRANSPORTATION CORP        16-30 Min   \n",
       "2          PIONEER TRANSPORTATION CORP        16-30 Min   \n",
       "3       PRIDE TRANSPORTATION (SCH AGE)        61-90 Min   \n",
       "4       CONSOLIDATED BUS TRANSIT, INC.        31-45 Min   \n",
       "...                                ...              ...   \n",
       "314261           VAN TRANS LLC (B2192)         0-15 Min   \n",
       "314262              L & M BUS CORP (A)              NaN   \n",
       "314263           VAN TRANS LLC (B2192)         0-15 Min   \n",
       "314264              BORO TRANSIT, INC.        16-30 Min   \n",
       "314265           VAN TRANS LLC (B2192)         0-15 Min   \n",
       "\n",
       "        Number_Of_Students_On_The_Bus Breakdown_or_Running_Late  \\\n",
       "0                                   1              Running Late   \n",
       "1                                   8              Running Late   \n",
       "2                                   0              Running Late   \n",
       "3                                   0              Running Late   \n",
       "4                                   0              Running Late   \n",
       "...                               ...                       ...   \n",
       "314261                              0              Running Late   \n",
       "314262                              0                 Breakdown   \n",
       "314263                              0              Running Late   \n",
       "314264                              0              Running Late   \n",
       "314265                              0              Running Late   \n",
       "\n",
       "       School_Age_or_PreK  \n",
       "0              School-Age  \n",
       "1              School-Age  \n",
       "2              School-Age  \n",
       "3              School-Age  \n",
       "4              School-Age  \n",
       "...                   ...  \n",
       "314261         School-Age  \n",
       "314262         School-Age  \n",
       "314263         School-Age  \n",
       "314264         School-Age  \n",
       "314265         School-Age  \n",
       "\n",
       "[314266 rows x 11 columns]"
      ]
     },
     "execution_count": 484,
     "metadata": {},
     "output_type": "execute_result"
    }
   ],
   "source": [
    "df"
   ]
  },
  {
   "cell_type": "code",
   "execution_count": 485,
   "id": "9acd7276-1a3e-4c0a-be62-2ebe96fd60cd",
   "metadata": {},
   "outputs": [
    {
     "name": "stdout",
     "output_type": "stream",
     "text": [
      "<class 'pandas.core.frame.DataFrame'>\n",
      "RangeIndex: 314266 entries, 0 to 314265\n",
      "Data columns (total 11 columns):\n",
      " #   Column                         Non-Null Count   Dtype \n",
      "---  ------                         --------------   ----- \n",
      " 0   School_Year                    314266 non-null  object\n",
      " 1   Run_Type                       314257 non-null  object\n",
      " 2   Reason                         314266 non-null  object\n",
      " 3   Schools_Serviced               314266 non-null  object\n",
      " 4   Occurred_On                    314266 non-null  object\n",
      " 5   Boro                           314175 non-null  object\n",
      " 6   Bus_Company_Name               314266 non-null  object\n",
      " 7   How_Long_Delayed               297132 non-null  object\n",
      " 8   Number_Of_Students_On_The_Bus  314266 non-null  int64 \n",
      " 9   Breakdown_or_Running_Late      314266 non-null  object\n",
      " 10  School_Age_or_PreK             314266 non-null  object\n",
      "dtypes: int64(1), object(10)\n",
      "memory usage: 26.4+ MB\n"
     ]
    }
   ],
   "source": [
    "df.info()"
   ]
  },
  {
   "cell_type": "code",
   "execution_count": 486,
   "id": "9d746244-4730-4b57-a989-43e69284f215",
   "metadata": {},
   "outputs": [
    {
     "data": {
      "text/plain": [
       "array(['2022-2023', '2023-2024', '2021-2022', '2024-2025'], dtype=object)"
      ]
     },
     "execution_count": 486,
     "metadata": {},
     "output_type": "execute_result"
    }
   ],
   "source": [
    "df['School_Year'].unique()"
   ]
  },
  {
   "cell_type": "code",
   "execution_count": 487,
   "id": "a8c2cc88-9f63-4299-ae82-c3e72dba8561",
   "metadata": {},
   "outputs": [
    {
     "data": {
      "text/plain": [
       "School_Year\n",
       "2022-2023    94651\n",
       "2023-2024    84931\n",
       "2021-2022    70179\n",
       "2024-2025    64505\n",
       "Name: count, dtype: int64"
      ]
     },
     "execution_count": 487,
     "metadata": {},
     "output_type": "execute_result"
    }
   ],
   "source": [
    "## Of the four school years I am analyzing, which year had the most delays?\n",
    "## Let's see the value count per school year, since each entry is a breakdown or a delay.\n",
    "df['School_Year'].value_counts()"
   ]
  },
  {
   "cell_type": "code",
   "execution_count": 488,
   "id": "06086b37-98cf-4673-bbe4-0d0c80168cbb",
   "metadata": {},
   "outputs": [
    {
     "name": "stdout",
     "output_type": "stream",
     "text": [
      "<class 'pandas.core.frame.DataFrame'>\n",
      "RangeIndex: 314266 entries, 0 to 314265\n",
      "Data columns (total 11 columns):\n",
      " #   Column                         Non-Null Count   Dtype \n",
      "---  ------                         --------------   ----- \n",
      " 0   School_Year                    314266 non-null  object\n",
      " 1   Run_Type                       314257 non-null  object\n",
      " 2   Reason                         314266 non-null  object\n",
      " 3   Schools_Serviced               314266 non-null  object\n",
      " 4   Occurred_On                    314266 non-null  object\n",
      " 5   Boro                           314175 non-null  object\n",
      " 6   Bus_Company_Name               314266 non-null  object\n",
      " 7   How_Long_Delayed               297132 non-null  object\n",
      " 8   Number_Of_Students_On_The_Bus  314266 non-null  int64 \n",
      " 9   Breakdown_or_Running_Late      314266 non-null  object\n",
      " 10  School_Age_or_PreK             314266 non-null  object\n",
      "dtypes: int64(1), object(10)\n",
      "memory usage: 26.4+ MB\n"
     ]
    }
   ],
   "source": [
    "## That's interesting, but not super helpful because the 2024-25 school year ends on June 26. I need the daily average.\n",
    "## First, I need to check what type of column Occured_On is.\n",
    "\n",
    "df.info()"
   ]
  },
  {
   "cell_type": "code",
   "execution_count": 489,
   "id": "4bb17219-5df5-4e20-b2e4-a5843564dd63",
   "metadata": {},
   "outputs": [],
   "source": [
    "## It's an object. I need it to be a datetime.\n",
    "\n",
    "df['Occurred_On'] = pd.to_datetime(df['Occurred_On'])"
   ]
  },
  {
   "cell_type": "code",
   "execution_count": 490,
   "id": "a6f50094-acb4-48ee-b8eb-ef49c2d6a2e5",
   "metadata": {},
   "outputs": [
    {
     "name": "stdout",
     "output_type": "stream",
     "text": [
      "<class 'pandas.core.frame.DataFrame'>\n",
      "RangeIndex: 314266 entries, 0 to 314265\n",
      "Data columns (total 11 columns):\n",
      " #   Column                         Non-Null Count   Dtype         \n",
      "---  ------                         --------------   -----         \n",
      " 0   School_Year                    314266 non-null  object        \n",
      " 1   Run_Type                       314257 non-null  object        \n",
      " 2   Reason                         314266 non-null  object        \n",
      " 3   Schools_Serviced               314266 non-null  object        \n",
      " 4   Occurred_On                    314266 non-null  datetime64[ns]\n",
      " 5   Boro                           314175 non-null  object        \n",
      " 6   Bus_Company_Name               314266 non-null  object        \n",
      " 7   How_Long_Delayed               297132 non-null  object        \n",
      " 8   Number_Of_Students_On_The_Bus  314266 non-null  int64         \n",
      " 9   Breakdown_or_Running_Late      314266 non-null  object        \n",
      " 10  School_Age_or_PreK             314266 non-null  object        \n",
      "dtypes: datetime64[ns](1), int64(1), object(9)\n",
      "memory usage: 26.4+ MB\n"
     ]
    }
   ],
   "source": [
    "df.info()"
   ]
  },
  {
   "cell_type": "code",
   "execution_count": 491,
   "id": "9746cc1e-2622-46bc-a742-cb22d6b5b816",
   "metadata": {},
   "outputs": [],
   "source": [
    "## Now I need to extract the date without the time.\n",
    "\n",
    "df['date'] = df['Occurred_On'].dt.date"
   ]
  },
  {
   "cell_type": "code",
   "execution_count": 492,
   "id": "38028107-0877-4ffc-8996-2eda0319bbd6",
   "metadata": {},
   "outputs": [
    {
     "data": {
      "text/html": [
       "<div>\n",
       "<style scoped>\n",
       "    .dataframe tbody tr th:only-of-type {\n",
       "        vertical-align: middle;\n",
       "    }\n",
       "\n",
       "    .dataframe tbody tr th {\n",
       "        vertical-align: top;\n",
       "    }\n",
       "\n",
       "    .dataframe thead th {\n",
       "        text-align: right;\n",
       "    }\n",
       "</style>\n",
       "<table border=\"1\" class=\"dataframe\">\n",
       "  <thead>\n",
       "    <tr style=\"text-align: right;\">\n",
       "      <th></th>\n",
       "      <th>School_Year</th>\n",
       "      <th>Run_Type</th>\n",
       "      <th>Reason</th>\n",
       "      <th>Schools_Serviced</th>\n",
       "      <th>Occurred_On</th>\n",
       "      <th>Boro</th>\n",
       "      <th>Bus_Company_Name</th>\n",
       "      <th>How_Long_Delayed</th>\n",
       "      <th>Number_Of_Students_On_The_Bus</th>\n",
       "      <th>Breakdown_or_Running_Late</th>\n",
       "      <th>School_Age_or_PreK</th>\n",
       "      <th>date</th>\n",
       "    </tr>\n",
       "  </thead>\n",
       "  <tbody>\n",
       "    <tr>\n",
       "      <th>0</th>\n",
       "      <td>2022-2023</td>\n",
       "      <td>Special Ed AM Run</td>\n",
       "      <td>Heavy Traffic</td>\n",
       "      <td>21468,21560,21907</td>\n",
       "      <td>2022-09-12 08:10:00</td>\n",
       "      <td>Brooklyn</td>\n",
       "      <td>BORO TRANSIT, INC.</td>\n",
       "      <td>16-30 Min</td>\n",
       "      <td>1</td>\n",
       "      <td>Running Late</td>\n",
       "      <td>School-Age</td>\n",
       "      <td>2022-09-12</td>\n",
       "    </tr>\n",
       "    <tr>\n",
       "      <th>1</th>\n",
       "      <td>2022-2023</td>\n",
       "      <td>Special Ed AM Run</td>\n",
       "      <td>Heavy Traffic</td>\n",
       "      <td>12486</td>\n",
       "      <td>2022-09-12 08:25:00</td>\n",
       "      <td>Bronx</td>\n",
       "      <td>PIONEER TRANSPORTATION CORP</td>\n",
       "      <td>16-30 Min</td>\n",
       "      <td>8</td>\n",
       "      <td>Running Late</td>\n",
       "      <td>School-Age</td>\n",
       "      <td>2022-09-12</td>\n",
       "    </tr>\n",
       "    <tr>\n",
       "      <th>2</th>\n",
       "      <td>2022-2023</td>\n",
       "      <td>General Ed AM Run</td>\n",
       "      <td>Heavy Traffic</td>\n",
       "      <td>31044</td>\n",
       "      <td>2022-09-21 05:17:00</td>\n",
       "      <td>Staten Island</td>\n",
       "      <td>PIONEER TRANSPORTATION CORP</td>\n",
       "      <td>16-30 Min</td>\n",
       "      <td>0</td>\n",
       "      <td>Running Late</td>\n",
       "      <td>School-Age</td>\n",
       "      <td>2022-09-21</td>\n",
       "    </tr>\n",
       "    <tr>\n",
       "      <th>3</th>\n",
       "      <td>2022-2023</td>\n",
       "      <td>Special Ed AM Run</td>\n",
       "      <td>Other</td>\n",
       "      <td>20685,21461</td>\n",
       "      <td>2022-09-22 06:15:00</td>\n",
       "      <td>Brooklyn</td>\n",
       "      <td>PRIDE TRANSPORTATION (SCH AGE)</td>\n",
       "      <td>61-90 Min</td>\n",
       "      <td>0</td>\n",
       "      <td>Running Late</td>\n",
       "      <td>School-Age</td>\n",
       "      <td>2022-09-22</td>\n",
       "    </tr>\n",
       "    <tr>\n",
       "      <th>4</th>\n",
       "      <td>2022-2023</td>\n",
       "      <td>Special Ed AM Run</td>\n",
       "      <td>Heavy Traffic</td>\n",
       "      <td>07401,07480</td>\n",
       "      <td>2022-09-22 06:15:00</td>\n",
       "      <td>Bronx</td>\n",
       "      <td>CONSOLIDATED BUS TRANSIT, INC.</td>\n",
       "      <td>31-45 Min</td>\n",
       "      <td>0</td>\n",
       "      <td>Running Late</td>\n",
       "      <td>School-Age</td>\n",
       "      <td>2022-09-22</td>\n",
       "    </tr>\n",
       "    <tr>\n",
       "      <th>...</th>\n",
       "      <td>...</td>\n",
       "      <td>...</td>\n",
       "      <td>...</td>\n",
       "      <td>...</td>\n",
       "      <td>...</td>\n",
       "      <td>...</td>\n",
       "      <td>...</td>\n",
       "      <td>...</td>\n",
       "      <td>...</td>\n",
       "      <td>...</td>\n",
       "      <td>...</td>\n",
       "      <td>...</td>\n",
       "    </tr>\n",
       "    <tr>\n",
       "      <th>314261</th>\n",
       "      <td>2024-2025</td>\n",
       "      <td>Special Ed AM Run</td>\n",
       "      <td>Heavy Traffic</td>\n",
       "      <td>08015,08530</td>\n",
       "      <td>2025-05-19 06:03:00</td>\n",
       "      <td>Bronx</td>\n",
       "      <td>VAN TRANS LLC (B2192)</td>\n",
       "      <td>0-15 Min</td>\n",
       "      <td>0</td>\n",
       "      <td>Running Late</td>\n",
       "      <td>School-Age</td>\n",
       "      <td>2025-05-19</td>\n",
       "    </tr>\n",
       "    <tr>\n",
       "      <th>314262</th>\n",
       "      <td>2024-2025</td>\n",
       "      <td>Special Ed AM Run</td>\n",
       "      <td>Won`t Start</td>\n",
       "      <td>27009,27067,27202</td>\n",
       "      <td>2025-05-19 05:50:00</td>\n",
       "      <td>Queens</td>\n",
       "      <td>L &amp; M BUS CORP (A)</td>\n",
       "      <td>NaN</td>\n",
       "      <td>0</td>\n",
       "      <td>Breakdown</td>\n",
       "      <td>School-Age</td>\n",
       "      <td>2025-05-19</td>\n",
       "    </tr>\n",
       "    <tr>\n",
       "      <th>314263</th>\n",
       "      <td>2024-2025</td>\n",
       "      <td>Special Ed AM Run</td>\n",
       "      <td>Heavy Traffic</td>\n",
       "      <td>11455</td>\n",
       "      <td>2025-05-19 06:04:00</td>\n",
       "      <td>Bronx</td>\n",
       "      <td>VAN TRANS LLC (B2192)</td>\n",
       "      <td>0-15 Min</td>\n",
       "      <td>0</td>\n",
       "      <td>Running Late</td>\n",
       "      <td>School-Age</td>\n",
       "      <td>2025-05-19</td>\n",
       "    </tr>\n",
       "    <tr>\n",
       "      <th>314264</th>\n",
       "      <td>2024-2025</td>\n",
       "      <td>Special Ed AM Run</td>\n",
       "      <td>Other</td>\n",
       "      <td>13067,13461,13507,13587,13655</td>\n",
       "      <td>2025-05-19 06:04:00</td>\n",
       "      <td>Brooklyn</td>\n",
       "      <td>BORO TRANSIT, INC.</td>\n",
       "      <td>16-30 Min</td>\n",
       "      <td>0</td>\n",
       "      <td>Running Late</td>\n",
       "      <td>School-Age</td>\n",
       "      <td>2025-05-19</td>\n",
       "    </tr>\n",
       "    <tr>\n",
       "      <th>314265</th>\n",
       "      <td>2024-2025</td>\n",
       "      <td>Special Ed AM Run</td>\n",
       "      <td>Heavy Traffic</td>\n",
       "      <td>07259,07643</td>\n",
       "      <td>2025-05-19 06:05:00</td>\n",
       "      <td>Bronx</td>\n",
       "      <td>VAN TRANS LLC (B2192)</td>\n",
       "      <td>0-15 Min</td>\n",
       "      <td>0</td>\n",
       "      <td>Running Late</td>\n",
       "      <td>School-Age</td>\n",
       "      <td>2025-05-19</td>\n",
       "    </tr>\n",
       "  </tbody>\n",
       "</table>\n",
       "<p>314266 rows × 12 columns</p>\n",
       "</div>"
      ],
      "text/plain": [
       "       School_Year           Run_Type         Reason  \\\n",
       "0        2022-2023  Special Ed AM Run  Heavy Traffic   \n",
       "1        2022-2023  Special Ed AM Run  Heavy Traffic   \n",
       "2        2022-2023  General Ed AM Run  Heavy Traffic   \n",
       "3        2022-2023  Special Ed AM Run          Other   \n",
       "4        2022-2023  Special Ed AM Run  Heavy Traffic   \n",
       "...            ...                ...            ...   \n",
       "314261   2024-2025  Special Ed AM Run  Heavy Traffic   \n",
       "314262   2024-2025  Special Ed AM Run    Won`t Start   \n",
       "314263   2024-2025  Special Ed AM Run  Heavy Traffic   \n",
       "314264   2024-2025  Special Ed AM Run          Other   \n",
       "314265   2024-2025  Special Ed AM Run  Heavy Traffic   \n",
       "\n",
       "                     Schools_Serviced         Occurred_On           Boro  \\\n",
       "0                   21468,21560,21907 2022-09-12 08:10:00       Brooklyn   \n",
       "1                               12486 2022-09-12 08:25:00          Bronx   \n",
       "2                               31044 2022-09-21 05:17:00  Staten Island   \n",
       "3                         20685,21461 2022-09-22 06:15:00       Brooklyn   \n",
       "4                         07401,07480 2022-09-22 06:15:00          Bronx   \n",
       "...                               ...                 ...            ...   \n",
       "314261                    08015,08530 2025-05-19 06:03:00          Bronx   \n",
       "314262              27009,27067,27202 2025-05-19 05:50:00         Queens   \n",
       "314263                          11455 2025-05-19 06:04:00          Bronx   \n",
       "314264  13067,13461,13507,13587,13655 2025-05-19 06:04:00       Brooklyn   \n",
       "314265                    07259,07643 2025-05-19 06:05:00          Bronx   \n",
       "\n",
       "                      Bus_Company_Name How_Long_Delayed  \\\n",
       "0                   BORO TRANSIT, INC.        16-30 Min   \n",
       "1          PIONEER TRANSPORTATION CORP        16-30 Min   \n",
       "2          PIONEER TRANSPORTATION CORP        16-30 Min   \n",
       "3       PRIDE TRANSPORTATION (SCH AGE)        61-90 Min   \n",
       "4       CONSOLIDATED BUS TRANSIT, INC.        31-45 Min   \n",
       "...                                ...              ...   \n",
       "314261           VAN TRANS LLC (B2192)         0-15 Min   \n",
       "314262              L & M BUS CORP (A)              NaN   \n",
       "314263           VAN TRANS LLC (B2192)         0-15 Min   \n",
       "314264              BORO TRANSIT, INC.        16-30 Min   \n",
       "314265           VAN TRANS LLC (B2192)         0-15 Min   \n",
       "\n",
       "        Number_Of_Students_On_The_Bus Breakdown_or_Running_Late  \\\n",
       "0                                   1              Running Late   \n",
       "1                                   8              Running Late   \n",
       "2                                   0              Running Late   \n",
       "3                                   0              Running Late   \n",
       "4                                   0              Running Late   \n",
       "...                               ...                       ...   \n",
       "314261                              0              Running Late   \n",
       "314262                              0                 Breakdown   \n",
       "314263                              0              Running Late   \n",
       "314264                              0              Running Late   \n",
       "314265                              0              Running Late   \n",
       "\n",
       "       School_Age_or_PreK        date  \n",
       "0              School-Age  2022-09-12  \n",
       "1              School-Age  2022-09-12  \n",
       "2              School-Age  2022-09-21  \n",
       "3              School-Age  2022-09-22  \n",
       "4              School-Age  2022-09-22  \n",
       "...                   ...         ...  \n",
       "314261         School-Age  2025-05-19  \n",
       "314262         School-Age  2025-05-19  \n",
       "314263         School-Age  2025-05-19  \n",
       "314264         School-Age  2025-05-19  \n",
       "314265         School-Age  2025-05-19  \n",
       "\n",
       "[314266 rows x 12 columns]"
      ]
     },
     "execution_count": 492,
     "metadata": {},
     "output_type": "execute_result"
    }
   ],
   "source": [
    "df"
   ]
  },
  {
   "cell_type": "code",
   "execution_count": 493,
   "id": "2079c85e-4be0-48b6-b3e9-6b7adfc96376",
   "metadata": {},
   "outputs": [],
   "source": [
    "## Now, I need the total number of incidents per school year.\n",
    "schoolyear = df_main.groupby('School_Year')\n",
    "incident_counts = schoolyear.size()"
   ]
  },
  {
   "cell_type": "code",
   "execution_count": 494,
   "id": "8c66d97d-c7b1-4ad2-8641-959131dd17d1",
   "metadata": {},
   "outputs": [
    {
     "data": {
      "text/plain": [
       "School_Year\n",
       "2021-2022    70179\n",
       "2022-2023    94651\n",
       "2023-2024    84931\n",
       "2024-2025    64505\n",
       "dtype: int64"
      ]
     },
     "execution_count": 494,
     "metadata": {},
     "output_type": "execute_result"
    }
   ],
   "source": [
    "incident_counts"
   ]
  },
  {
   "cell_type": "code",
   "execution_count": 651,
   "id": "340a5507-2e7a-4e32-a277-838d6dae6f8c",
   "metadata": {},
   "outputs": [
    {
     "data": {
      "text/plain": [
       "314266"
      ]
     },
     "execution_count": 651,
     "metadata": {},
     "output_type": "execute_result"
    }
   ],
   "source": [
    "## Checking the math.\n",
    "\n",
    "70179 + 94651 + 84931 + 64505"
   ]
  },
  {
   "cell_type": "code",
   "execution_count": 649,
   "id": "ab007f99-f2d5-4609-aaa1-ddced0568ae8",
   "metadata": {},
   "outputs": [
    {
     "name": "stdout",
     "output_type": "stream",
     "text": [
      "<class 'pandas.core.frame.DataFrame'>\n",
      "RangeIndex: 314266 entries, 0 to 314265\n",
      "Data columns (total 13 columns):\n",
      " #   Column                         Non-Null Count   Dtype         \n",
      "---  ------                         --------------   -----         \n",
      " 0   School_Year                    314266 non-null  object        \n",
      " 1   Run_Type                       314257 non-null  object        \n",
      " 2   Reason                         314266 non-null  object        \n",
      " 3   Schools_Serviced               314266 non-null  object        \n",
      " 4   Occurred_On                    314266 non-null  datetime64[ns]\n",
      " 5   Boro                           314175 non-null  object        \n",
      " 6   Bus_Company_Name               314266 non-null  object        \n",
      " 7   How_Long_Delayed               297132 non-null  object        \n",
      " 8   Number_Of_Students_On_The_Bus  314266 non-null  int64         \n",
      " 9   Breakdown_or_Running_Late      314266 non-null  object        \n",
      " 10  School_Age_or_PreK             314266 non-null  object        \n",
      " 11  date                           314266 non-null  datetime64[ns]\n",
      " 12  month                          314266 non-null  period[M]     \n",
      "dtypes: datetime64[ns](2), int64(1), object(9), period[M](1)\n",
      "memory usage: 31.2+ MB\n"
     ]
    }
   ],
   "source": [
    "df.info()"
   ]
  },
  {
   "cell_type": "code",
   "execution_count": 495,
   "id": "e78f4dc1-aa47-4d45-bbac-de9a18de1d42",
   "metadata": {},
   "outputs": [
    {
     "data": {
      "text/plain": [
       "School_Year\n",
       "2021-2022    70179\n",
       "2022-2023    94651\n",
       "2023-2024    84931\n",
       "2024-2025    64505\n",
       "dtype: int64"
      ]
     },
     "execution_count": 495,
     "metadata": {},
     "output_type": "execute_result"
    }
   ],
   "source": [
    "## Great! I'll save this as the answer to my first question.\n",
    "\n",
    "q1 = incident_counts\n",
    "q1"
   ]
  },
  {
   "cell_type": "code",
   "execution_count": 496,
   "id": "a4b13c76-7fec-4dc9-8ae7-76724a6f8dba",
   "metadata": {},
   "outputs": [],
   "source": [
    "## Now I need to know how many unique school days there were per year.\n",
    "\n",
    "unique_days = schoolyear['date'].nunique()"
   ]
  },
  {
   "cell_type": "code",
   "execution_count": 497,
   "id": "588a0181-d3f2-40b6-b8f0-59738b1c3454",
   "metadata": {},
   "outputs": [
    {
     "data": {
      "text/plain": [
       "School_Year\n",
       "2021-2022    207\n",
       "2022-2023    205\n",
       "2023-2024    203\n",
       "2024-2025    178\n",
       "Name: date, dtype: int64"
      ]
     },
     "execution_count": 497,
     "metadata": {},
     "output_type": "execute_result"
    }
   ],
   "source": [
    "unique_days"
   ]
  },
  {
   "cell_type": "code",
   "execution_count": 498,
   "id": "2d70b170-657e-4185-ad78-0e43893f642c",
   "metadata": {},
   "outputs": [
    {
     "data": {
      "text/plain": [
       "School_Year\n",
       "2021-2022   339\n",
       "2022-2023   462\n",
       "2023-2024   418\n",
       "2024-2025   362\n",
       "dtype: float64"
      ]
     },
     "execution_count": 498,
     "metadata": {},
     "output_type": "execute_result"
    }
   ],
   "source": [
    "## If I divide the number of incidents by the number of unique days, I will get the average number of incidents per day for each school year.\n",
    "\n",
    "incident_counts / unique_days"
   ]
  },
  {
   "cell_type": "code",
   "execution_count": 499,
   "id": "c121f6e9-81bf-4993-b4b1-48079bec7456",
   "metadata": {},
   "outputs": [
    {
     "data": {
      "text/plain": [
       "362.3876404494382"
      ]
     },
     "execution_count": 499,
     "metadata": {},
     "output_type": "execute_result"
    }
   ],
   "source": [
    "## I just want to double check one of the numbers to make sure it worked.\n",
    "\n",
    "64505 / 178"
   ]
  },
  {
   "cell_type": "code",
   "execution_count": 500,
   "id": "2e380811-39f0-4d1a-9969-f471c6e88a82",
   "metadata": {},
   "outputs": [
    {
     "data": {
      "text/plain": [
       "School_Year\n",
       "2021-2022   339\n",
       "2022-2023   462\n",
       "2023-2024   418\n",
       "2024-2025   362\n",
       "dtype: float64"
      ]
     },
     "execution_count": 500,
     "metadata": {},
     "output_type": "execute_result"
    }
   ],
   "source": [
    "## Worked! I'll save this data as the answer to my second question\n",
    "\n",
    "q2 = incident_counts / unique_days\n",
    "\n",
    "q2"
   ]
  },
  {
   "cell_type": "code",
   "execution_count": 501,
   "id": "61dd8602-d365-4ff2-bc28-4d9d1246ffed",
   "metadata": {},
   "outputs": [],
   "source": [
    "## I'm concerned that the first dates on my df are from 2022. I'll organize by Occurred_On to see what's going on."
   ]
  },
  {
   "cell_type": "code",
   "execution_count": 502,
   "id": "876f8764-2dbc-403c-a8e7-6dd34cae2db8",
   "metadata": {},
   "outputs": [
    {
     "data": {
      "text/html": [
       "<div>\n",
       "<style scoped>\n",
       "    .dataframe tbody tr th:only-of-type {\n",
       "        vertical-align: middle;\n",
       "    }\n",
       "\n",
       "    .dataframe tbody tr th {\n",
       "        vertical-align: top;\n",
       "    }\n",
       "\n",
       "    .dataframe thead th {\n",
       "        text-align: right;\n",
       "    }\n",
       "</style>\n",
       "<table border=\"1\" class=\"dataframe\">\n",
       "  <thead>\n",
       "    <tr style=\"text-align: right;\">\n",
       "      <th></th>\n",
       "      <th>School_Year</th>\n",
       "      <th>Run_Type</th>\n",
       "      <th>Reason</th>\n",
       "      <th>Schools_Serviced</th>\n",
       "      <th>Occurred_On</th>\n",
       "      <th>Boro</th>\n",
       "      <th>Bus_Company_Name</th>\n",
       "      <th>How_Long_Delayed</th>\n",
       "      <th>Number_Of_Students_On_The_Bus</th>\n",
       "      <th>Breakdown_or_Running_Late</th>\n",
       "      <th>School_Age_or_PreK</th>\n",
       "      <th>date</th>\n",
       "    </tr>\n",
       "  </thead>\n",
       "  <tbody>\n",
       "    <tr>\n",
       "      <th>53464</th>\n",
       "      <td>2021-2022</td>\n",
       "      <td>Pre-K/EI</td>\n",
       "      <td>Heavy Traffic</td>\n",
       "      <td>C270</td>\n",
       "      <td>2021-09-01 08:10:00</td>\n",
       "      <td>Brooklyn</td>\n",
       "      <td>L &amp; M BUS CORP.</td>\n",
       "      <td>16-30 Min</td>\n",
       "      <td>6</td>\n",
       "      <td>Running Late</td>\n",
       "      <td>Pre-K</td>\n",
       "      <td>2021-09-01</td>\n",
       "    </tr>\n",
       "    <tr>\n",
       "      <th>110408</th>\n",
       "      <td>2021-2022</td>\n",
       "      <td>Pre-K/EI</td>\n",
       "      <td>Heavy Traffic</td>\n",
       "      <td>E219</td>\n",
       "      <td>2021-09-01 11:56:00</td>\n",
       "      <td>Bronx</td>\n",
       "      <td>G.V.C., LTD.</td>\n",
       "      <td>16-30 Min</td>\n",
       "      <td>8</td>\n",
       "      <td>Running Late</td>\n",
       "      <td>Pre-K</td>\n",
       "      <td>2021-09-01</td>\n",
       "    </tr>\n",
       "    <tr>\n",
       "      <th>110409</th>\n",
       "      <td>2021-2022</td>\n",
       "      <td>Pre-K/EI</td>\n",
       "      <td>Other</td>\n",
       "      <td>E218</td>\n",
       "      <td>2021-09-01 13:00:00</td>\n",
       "      <td>Bronx</td>\n",
       "      <td>G.V.C., LTD.</td>\n",
       "      <td>16-30 Min</td>\n",
       "      <td>7</td>\n",
       "      <td>Running Late</td>\n",
       "      <td>Pre-K</td>\n",
       "      <td>2021-09-01</td>\n",
       "    </tr>\n",
       "    <tr>\n",
       "      <th>48498</th>\n",
       "      <td>2021-2022</td>\n",
       "      <td>Pre-K/EI</td>\n",
       "      <td>Other</td>\n",
       "      <td>C244</td>\n",
       "      <td>2021-09-02 07:05:00</td>\n",
       "      <td>Brooklyn</td>\n",
       "      <td>L &amp; M BUS CORP.</td>\n",
       "      <td>16-30 Min</td>\n",
       "      <td>0</td>\n",
       "      <td>Running Late</td>\n",
       "      <td>Pre-K</td>\n",
       "      <td>2021-09-02</td>\n",
       "    </tr>\n",
       "    <tr>\n",
       "      <th>48499</th>\n",
       "      <td>2021-2022</td>\n",
       "      <td>Pre-K/EI</td>\n",
       "      <td>Other</td>\n",
       "      <td>E004</td>\n",
       "      <td>2021-09-02 12:00:00</td>\n",
       "      <td>Brooklyn</td>\n",
       "      <td>L &amp; M BUS CORP.</td>\n",
       "      <td>16-30 Min</td>\n",
       "      <td>2</td>\n",
       "      <td>Running Late</td>\n",
       "      <td>Pre-K</td>\n",
       "      <td>2021-09-02</td>\n",
       "    </tr>\n",
       "    <tr>\n",
       "      <th>...</th>\n",
       "      <td>...</td>\n",
       "      <td>...</td>\n",
       "      <td>...</td>\n",
       "      <td>...</td>\n",
       "      <td>...</td>\n",
       "      <td>...</td>\n",
       "      <td>...</td>\n",
       "      <td>...</td>\n",
       "      <td>...</td>\n",
       "      <td>...</td>\n",
       "      <td>...</td>\n",
       "      <td>...</td>\n",
       "    </tr>\n",
       "    <tr>\n",
       "      <th>314147</th>\n",
       "      <td>2024-2025</td>\n",
       "      <td>Special Ed AM Run</td>\n",
       "      <td>Mechanical Problem</td>\n",
       "      <td>28117,28217</td>\n",
       "      <td>2025-05-19 15:06:00</td>\n",
       "      <td>Queens</td>\n",
       "      <td>PRIDE TRANSPORTATION (SCH AGE)</td>\n",
       "      <td>NaN</td>\n",
       "      <td>8</td>\n",
       "      <td>Breakdown</td>\n",
       "      <td>School-Age</td>\n",
       "      <td>2025-05-19</td>\n",
       "    </tr>\n",
       "    <tr>\n",
       "      <th>314145</th>\n",
       "      <td>2024-2025</td>\n",
       "      <td>General Ed PM Run</td>\n",
       "      <td>Heavy Traffic</td>\n",
       "      <td>11189,11683</td>\n",
       "      <td>2025-05-19 15:08:00</td>\n",
       "      <td>Bronx</td>\n",
       "      <td>PIONEER TRANSPORTATION CORP</td>\n",
       "      <td>16-30 Min</td>\n",
       "      <td>0</td>\n",
       "      <td>Running Late</td>\n",
       "      <td>School-Age</td>\n",
       "      <td>2025-05-19</td>\n",
       "    </tr>\n",
       "    <tr>\n",
       "      <th>314148</th>\n",
       "      <td>2024-2025</td>\n",
       "      <td>Special Ed PM Run</td>\n",
       "      <td>Heavy Traffic</td>\n",
       "      <td>15854,20048,20519,20887</td>\n",
       "      <td>2025-05-19 15:10:00</td>\n",
       "      <td>Brooklyn</td>\n",
       "      <td>BORO TRANSIT, INC.</td>\n",
       "      <td>16-30 Min</td>\n",
       "      <td>0</td>\n",
       "      <td>Running Late</td>\n",
       "      <td>School-Age</td>\n",
       "      <td>2025-05-19</td>\n",
       "    </tr>\n",
       "    <tr>\n",
       "      <th>314150</th>\n",
       "      <td>2024-2025</td>\n",
       "      <td>General Ed PM Run</td>\n",
       "      <td>Heavy Traffic</td>\n",
       "      <td>07818,08138</td>\n",
       "      <td>2025-05-19 15:55:00</td>\n",
       "      <td>Bronx</td>\n",
       "      <td>PIONEER TRANSPORTATION CORP</td>\n",
       "      <td>16-30 Min</td>\n",
       "      <td>0</td>\n",
       "      <td>Running Late</td>\n",
       "      <td>School-Age</td>\n",
       "      <td>2025-05-19</td>\n",
       "    </tr>\n",
       "    <tr>\n",
       "      <th>314151</th>\n",
       "      <td>2024-2025</td>\n",
       "      <td>General Ed PM Run</td>\n",
       "      <td>Heavy Traffic</td>\n",
       "      <td>07486,12613</td>\n",
       "      <td>2025-05-19 16:52:00</td>\n",
       "      <td>Bronx</td>\n",
       "      <td>PIONEER TRANSPORTATION CORP</td>\n",
       "      <td>0-15 Min</td>\n",
       "      <td>0</td>\n",
       "      <td>Running Late</td>\n",
       "      <td>School-Age</td>\n",
       "      <td>2025-05-19</td>\n",
       "    </tr>\n",
       "  </tbody>\n",
       "</table>\n",
       "<p>314266 rows × 12 columns</p>\n",
       "</div>"
      ],
      "text/plain": [
       "       School_Year           Run_Type              Reason  \\\n",
       "53464    2021-2022           Pre-K/EI       Heavy Traffic   \n",
       "110408   2021-2022           Pre-K/EI       Heavy Traffic   \n",
       "110409   2021-2022           Pre-K/EI               Other   \n",
       "48498    2021-2022           Pre-K/EI               Other   \n",
       "48499    2021-2022           Pre-K/EI               Other   \n",
       "...            ...                ...                 ...   \n",
       "314147   2024-2025  Special Ed AM Run  Mechanical Problem   \n",
       "314145   2024-2025  General Ed PM Run       Heavy Traffic   \n",
       "314148   2024-2025  Special Ed PM Run       Heavy Traffic   \n",
       "314150   2024-2025  General Ed PM Run       Heavy Traffic   \n",
       "314151   2024-2025  General Ed PM Run       Heavy Traffic   \n",
       "\n",
       "               Schools_Serviced         Occurred_On      Boro  \\\n",
       "53464                      C270 2021-09-01 08:10:00  Brooklyn   \n",
       "110408                     E219 2021-09-01 11:56:00     Bronx   \n",
       "110409                     E218 2021-09-01 13:00:00     Bronx   \n",
       "48498                      C244 2021-09-02 07:05:00  Brooklyn   \n",
       "48499                      E004 2021-09-02 12:00:00  Brooklyn   \n",
       "...                         ...                 ...       ...   \n",
       "314147              28117,28217 2025-05-19 15:06:00    Queens   \n",
       "314145              11189,11683 2025-05-19 15:08:00     Bronx   \n",
       "314148  15854,20048,20519,20887 2025-05-19 15:10:00  Brooklyn   \n",
       "314150              07818,08138 2025-05-19 15:55:00     Bronx   \n",
       "314151              07486,12613 2025-05-19 16:52:00     Bronx   \n",
       "\n",
       "                      Bus_Company_Name How_Long_Delayed  \\\n",
       "53464                  L & M BUS CORP.        16-30 Min   \n",
       "110408                    G.V.C., LTD.        16-30 Min   \n",
       "110409                    G.V.C., LTD.        16-30 Min   \n",
       "48498                  L & M BUS CORP.        16-30 Min   \n",
       "48499                  L & M BUS CORP.        16-30 Min   \n",
       "...                                ...              ...   \n",
       "314147  PRIDE TRANSPORTATION (SCH AGE)              NaN   \n",
       "314145     PIONEER TRANSPORTATION CORP        16-30 Min   \n",
       "314148              BORO TRANSIT, INC.        16-30 Min   \n",
       "314150     PIONEER TRANSPORTATION CORP        16-30 Min   \n",
       "314151     PIONEER TRANSPORTATION CORP         0-15 Min   \n",
       "\n",
       "        Number_Of_Students_On_The_Bus Breakdown_or_Running_Late  \\\n",
       "53464                               6              Running Late   \n",
       "110408                              8              Running Late   \n",
       "110409                              7              Running Late   \n",
       "48498                               0              Running Late   \n",
       "48499                               2              Running Late   \n",
       "...                               ...                       ...   \n",
       "314147                              8                 Breakdown   \n",
       "314145                              0              Running Late   \n",
       "314148                              0              Running Late   \n",
       "314150                              0              Running Late   \n",
       "314151                              0              Running Late   \n",
       "\n",
       "       School_Age_or_PreK        date  \n",
       "53464               Pre-K  2021-09-01  \n",
       "110408              Pre-K  2021-09-01  \n",
       "110409              Pre-K  2021-09-01  \n",
       "48498               Pre-K  2021-09-02  \n",
       "48499               Pre-K  2021-09-02  \n",
       "...                   ...         ...  \n",
       "314147         School-Age  2025-05-19  \n",
       "314145         School-Age  2025-05-19  \n",
       "314148         School-Age  2025-05-19  \n",
       "314150         School-Age  2025-05-19  \n",
       "314151         School-Age  2025-05-19  \n",
       "\n",
       "[314266 rows x 12 columns]"
      ]
     },
     "execution_count": 502,
     "metadata": {},
     "output_type": "execute_result"
    }
   ],
   "source": [
    "df.sort_values(by='Occurred_On', ascending=True)"
   ]
  },
  {
   "cell_type": "code",
   "execution_count": 503,
   "id": "49bbf7c1-f950-44d0-bedd-7b06ffb52567",
   "metadata": {},
   "outputs": [],
   "source": [
    "## Great, the latest entries  are from today! "
   ]
  },
  {
   "cell_type": "code",
   "execution_count": 504,
   "id": "c2025ea1-8c0e-4a27-aedf-b5946693adf1",
   "metadata": {},
   "outputs": [
    {
     "data": {
      "text/html": [
       "<div>\n",
       "<style scoped>\n",
       "    .dataframe tbody tr th:only-of-type {\n",
       "        vertical-align: middle;\n",
       "    }\n",
       "\n",
       "    .dataframe tbody tr th {\n",
       "        vertical-align: top;\n",
       "    }\n",
       "\n",
       "    .dataframe thead th {\n",
       "        text-align: right;\n",
       "    }\n",
       "</style>\n",
       "<table border=\"1\" class=\"dataframe\">\n",
       "  <thead>\n",
       "    <tr style=\"text-align: right;\">\n",
       "      <th></th>\n",
       "      <th>School_Year</th>\n",
       "      <th>Run_Type</th>\n",
       "      <th>Reason</th>\n",
       "      <th>Schools_Serviced</th>\n",
       "      <th>Occurred_On</th>\n",
       "      <th>Boro</th>\n",
       "      <th>Bus_Company_Name</th>\n",
       "      <th>How_Long_Delayed</th>\n",
       "      <th>Number_Of_Students_On_The_Bus</th>\n",
       "      <th>Breakdown_or_Running_Late</th>\n",
       "      <th>School_Age_or_PreK</th>\n",
       "      <th>date</th>\n",
       "    </tr>\n",
       "  </thead>\n",
       "  <tbody>\n",
       "    <tr>\n",
       "      <th>249761</th>\n",
       "      <td>2024-2025</td>\n",
       "      <td>Pre-K/EI</td>\n",
       "      <td>Heavy Traffic</td>\n",
       "      <td>C195</td>\n",
       "      <td>2024-09-11 07:54:00</td>\n",
       "      <td>Bronx</td>\n",
       "      <td>G.V.C., LTD.</td>\n",
       "      <td>16-30 Min</td>\n",
       "      <td>13</td>\n",
       "      <td>Running Late</td>\n",
       "      <td>Pre-K</td>\n",
       "      <td>2024-09-11</td>\n",
       "    </tr>\n",
       "    <tr>\n",
       "      <th>249762</th>\n",
       "      <td>2024-2025</td>\n",
       "      <td>Special Ed AM Run</td>\n",
       "      <td>Other</td>\n",
       "      <td>75029</td>\n",
       "      <td>2024-09-04 07:09:00</td>\n",
       "      <td>Nassau County</td>\n",
       "      <td>THOMAS BUSES, INC. (B2321)</td>\n",
       "      <td>61-90 Min</td>\n",
       "      <td>0</td>\n",
       "      <td>Running Late</td>\n",
       "      <td>School-Age</td>\n",
       "      <td>2024-09-04</td>\n",
       "    </tr>\n",
       "    <tr>\n",
       "      <th>249763</th>\n",
       "      <td>2024-2025</td>\n",
       "      <td>Special Ed AM Run</td>\n",
       "      <td>Heavy Traffic</td>\n",
       "      <td>02282</td>\n",
       "      <td>2024-09-10 06:20:00</td>\n",
       "      <td>Manhattan</td>\n",
       "      <td>BORO TRANSIT, INC.</td>\n",
       "      <td>31-45 Min</td>\n",
       "      <td>0</td>\n",
       "      <td>Running Late</td>\n",
       "      <td>School-Age</td>\n",
       "      <td>2024-09-10</td>\n",
       "    </tr>\n",
       "    <tr>\n",
       "      <th>249764</th>\n",
       "      <td>2024-2025</td>\n",
       "      <td>Pre-K/EI</td>\n",
       "      <td>Heavy Traffic</td>\n",
       "      <td>C616</td>\n",
       "      <td>2024-09-04 08:13:00</td>\n",
       "      <td>Bronx</td>\n",
       "      <td>G.V.C., LTD.</td>\n",
       "      <td>0-15 Min</td>\n",
       "      <td>10</td>\n",
       "      <td>Running Late</td>\n",
       "      <td>Pre-K</td>\n",
       "      <td>2024-09-04</td>\n",
       "    </tr>\n",
       "    <tr>\n",
       "      <th>249765</th>\n",
       "      <td>2024-2025</td>\n",
       "      <td>Pre-K/EI</td>\n",
       "      <td>Heavy Traffic</td>\n",
       "      <td>C107</td>\n",
       "      <td>2024-10-24 06:45:00</td>\n",
       "      <td>Brooklyn</td>\n",
       "      <td>L &amp; M BUS CORP.</td>\n",
       "      <td>31-45 Min</td>\n",
       "      <td>0</td>\n",
       "      <td>Running Late</td>\n",
       "      <td>Pre-K</td>\n",
       "      <td>2024-10-24</td>\n",
       "    </tr>\n",
       "    <tr>\n",
       "      <th>...</th>\n",
       "      <td>...</td>\n",
       "      <td>...</td>\n",
       "      <td>...</td>\n",
       "      <td>...</td>\n",
       "      <td>...</td>\n",
       "      <td>...</td>\n",
       "      <td>...</td>\n",
       "      <td>...</td>\n",
       "      <td>...</td>\n",
       "      <td>...</td>\n",
       "      <td>...</td>\n",
       "      <td>...</td>\n",
       "    </tr>\n",
       "    <tr>\n",
       "      <th>314261</th>\n",
       "      <td>2024-2025</td>\n",
       "      <td>Special Ed AM Run</td>\n",
       "      <td>Heavy Traffic</td>\n",
       "      <td>08015,08530</td>\n",
       "      <td>2025-05-19 06:03:00</td>\n",
       "      <td>Bronx</td>\n",
       "      <td>VAN TRANS LLC (B2192)</td>\n",
       "      <td>0-15 Min</td>\n",
       "      <td>0</td>\n",
       "      <td>Running Late</td>\n",
       "      <td>School-Age</td>\n",
       "      <td>2025-05-19</td>\n",
       "    </tr>\n",
       "    <tr>\n",
       "      <th>314262</th>\n",
       "      <td>2024-2025</td>\n",
       "      <td>Special Ed AM Run</td>\n",
       "      <td>Won`t Start</td>\n",
       "      <td>27009,27067,27202</td>\n",
       "      <td>2025-05-19 05:50:00</td>\n",
       "      <td>Queens</td>\n",
       "      <td>L &amp; M BUS CORP (A)</td>\n",
       "      <td>NaN</td>\n",
       "      <td>0</td>\n",
       "      <td>Breakdown</td>\n",
       "      <td>School-Age</td>\n",
       "      <td>2025-05-19</td>\n",
       "    </tr>\n",
       "    <tr>\n",
       "      <th>314263</th>\n",
       "      <td>2024-2025</td>\n",
       "      <td>Special Ed AM Run</td>\n",
       "      <td>Heavy Traffic</td>\n",
       "      <td>11455</td>\n",
       "      <td>2025-05-19 06:04:00</td>\n",
       "      <td>Bronx</td>\n",
       "      <td>VAN TRANS LLC (B2192)</td>\n",
       "      <td>0-15 Min</td>\n",
       "      <td>0</td>\n",
       "      <td>Running Late</td>\n",
       "      <td>School-Age</td>\n",
       "      <td>2025-05-19</td>\n",
       "    </tr>\n",
       "    <tr>\n",
       "      <th>314264</th>\n",
       "      <td>2024-2025</td>\n",
       "      <td>Special Ed AM Run</td>\n",
       "      <td>Other</td>\n",
       "      <td>13067,13461,13507,13587,13655</td>\n",
       "      <td>2025-05-19 06:04:00</td>\n",
       "      <td>Brooklyn</td>\n",
       "      <td>BORO TRANSIT, INC.</td>\n",
       "      <td>16-30 Min</td>\n",
       "      <td>0</td>\n",
       "      <td>Running Late</td>\n",
       "      <td>School-Age</td>\n",
       "      <td>2025-05-19</td>\n",
       "    </tr>\n",
       "    <tr>\n",
       "      <th>314265</th>\n",
       "      <td>2024-2025</td>\n",
       "      <td>Special Ed AM Run</td>\n",
       "      <td>Heavy Traffic</td>\n",
       "      <td>07259,07643</td>\n",
       "      <td>2025-05-19 06:05:00</td>\n",
       "      <td>Bronx</td>\n",
       "      <td>VAN TRANS LLC (B2192)</td>\n",
       "      <td>0-15 Min</td>\n",
       "      <td>0</td>\n",
       "      <td>Running Late</td>\n",
       "      <td>School-Age</td>\n",
       "      <td>2025-05-19</td>\n",
       "    </tr>\n",
       "  </tbody>\n",
       "</table>\n",
       "<p>64505 rows × 12 columns</p>\n",
       "</div>"
      ],
      "text/plain": [
       "       School_Year           Run_Type         Reason  \\\n",
       "249761   2024-2025           Pre-K/EI  Heavy Traffic   \n",
       "249762   2024-2025  Special Ed AM Run          Other   \n",
       "249763   2024-2025  Special Ed AM Run  Heavy Traffic   \n",
       "249764   2024-2025           Pre-K/EI  Heavy Traffic   \n",
       "249765   2024-2025           Pre-K/EI  Heavy Traffic   \n",
       "...            ...                ...            ...   \n",
       "314261   2024-2025  Special Ed AM Run  Heavy Traffic   \n",
       "314262   2024-2025  Special Ed AM Run    Won`t Start   \n",
       "314263   2024-2025  Special Ed AM Run  Heavy Traffic   \n",
       "314264   2024-2025  Special Ed AM Run          Other   \n",
       "314265   2024-2025  Special Ed AM Run  Heavy Traffic   \n",
       "\n",
       "                     Schools_Serviced         Occurred_On           Boro  \\\n",
       "249761                           C195 2024-09-11 07:54:00          Bronx   \n",
       "249762                          75029 2024-09-04 07:09:00  Nassau County   \n",
       "249763                          02282 2024-09-10 06:20:00      Manhattan   \n",
       "249764                           C616 2024-09-04 08:13:00          Bronx   \n",
       "249765                           C107 2024-10-24 06:45:00       Brooklyn   \n",
       "...                               ...                 ...            ...   \n",
       "314261                    08015,08530 2025-05-19 06:03:00          Bronx   \n",
       "314262              27009,27067,27202 2025-05-19 05:50:00         Queens   \n",
       "314263                          11455 2025-05-19 06:04:00          Bronx   \n",
       "314264  13067,13461,13507,13587,13655 2025-05-19 06:04:00       Brooklyn   \n",
       "314265                    07259,07643 2025-05-19 06:05:00          Bronx   \n",
       "\n",
       "                  Bus_Company_Name How_Long_Delayed  \\\n",
       "249761                G.V.C., LTD.        16-30 Min   \n",
       "249762  THOMAS BUSES, INC. (B2321)        61-90 Min   \n",
       "249763          BORO TRANSIT, INC.        31-45 Min   \n",
       "249764                G.V.C., LTD.         0-15 Min   \n",
       "249765             L & M BUS CORP.        31-45 Min   \n",
       "...                            ...              ...   \n",
       "314261       VAN TRANS LLC (B2192)         0-15 Min   \n",
       "314262          L & M BUS CORP (A)              NaN   \n",
       "314263       VAN TRANS LLC (B2192)         0-15 Min   \n",
       "314264          BORO TRANSIT, INC.        16-30 Min   \n",
       "314265       VAN TRANS LLC (B2192)         0-15 Min   \n",
       "\n",
       "        Number_Of_Students_On_The_Bus Breakdown_or_Running_Late  \\\n",
       "249761                             13              Running Late   \n",
       "249762                              0              Running Late   \n",
       "249763                              0              Running Late   \n",
       "249764                             10              Running Late   \n",
       "249765                              0              Running Late   \n",
       "...                               ...                       ...   \n",
       "314261                              0              Running Late   \n",
       "314262                              0                 Breakdown   \n",
       "314263                              0              Running Late   \n",
       "314264                              0              Running Late   \n",
       "314265                              0              Running Late   \n",
       "\n",
       "       School_Age_or_PreK        date  \n",
       "249761              Pre-K  2024-09-11  \n",
       "249762         School-Age  2024-09-04  \n",
       "249763         School-Age  2024-09-10  \n",
       "249764              Pre-K  2024-09-04  \n",
       "249765              Pre-K  2024-10-24  \n",
       "...                   ...         ...  \n",
       "314261         School-Age  2025-05-19  \n",
       "314262         School-Age  2025-05-19  \n",
       "314263         School-Age  2025-05-19  \n",
       "314264         School-Age  2025-05-19  \n",
       "314265         School-Age  2025-05-19  \n",
       "\n",
       "[64505 rows x 12 columns]"
      ]
     },
     "execution_count": 504,
     "metadata": {},
     "output_type": "execute_result"
    }
   ],
   "source": [
    "## The rest of my questions are just about this school year, so I'll make a new df.\n",
    "\n",
    "df_25 = df[df['School_Year'] == '2024-2025']\n",
    "df_25"
   ]
  },
  {
   "cell_type": "markdown",
   "id": "f1242316-038e-4e5e-b73c-1844ed52bf3c",
   "metadata": {},
   "source": [
    "A reminder of the rest of my questions:\n",
    "\n",
    "3. For the 2024-2025 school year, what was the most frequent delay length?\n",
    "4. For the 2024-2025 school year, what was the most frequent reason for a delay?\n",
    "5. For the 2024-2025 school year, what bus company was responsible for the most delays?\n",
    "6. For the 2024-2025 school year, what was the average number of students on the school bus for each delay?\n",
    "7. For the 2024-2025 school year, what was the most frequent run type to have delays or breakdowns?\n",
    "8. For the 2024-2025 school year, what has been the daily average of delays per month?"
   ]
  },
  {
   "cell_type": "code",
   "execution_count": 506,
   "id": "699aa29d-3a0a-4fce-a8ac-135b5dd28103",
   "metadata": {},
   "outputs": [
    {
     "data": {
      "text/plain": [
       "5"
      ]
     },
     "execution_count": 506,
     "metadata": {},
     "output_type": "execute_result"
    }
   ],
   "source": [
    "## Let's start with delay length:\n",
    "\n",
    "df_25['How_Long_Delayed'].nunique()"
   ]
  },
  {
   "cell_type": "code",
   "execution_count": 507,
   "id": "1c4a2f99-c0cf-44fa-bc8d-8470559c1265",
   "metadata": {},
   "outputs": [
    {
     "data": {
      "text/plain": [
       "array(['16-30 Min', '61-90 Min', '31-45 Min', '0-15 Min', '46-60 Min',\n",
       "       nan], dtype=object)"
      ]
     },
     "execution_count": 507,
     "metadata": {},
     "output_type": "execute_result"
    }
   ],
   "source": [
    "df_25['How_Long_Delayed'].unique()"
   ]
  },
  {
   "cell_type": "code",
   "execution_count": 508,
   "id": "935f2d4f-0f71-478d-b530-5c11798f1489",
   "metadata": {},
   "outputs": [
    {
     "data": {
      "text/plain": [
       "How_Long_Delayed\n",
       "61-90 Min    19636\n",
       "16-30 Min    17451\n",
       "31-45 Min    12340\n",
       "0-15 Min      6707\n",
       "46-60 Min     5148\n",
       "Name: count, dtype: int64"
      ]
     },
     "execution_count": 508,
     "metadata": {},
     "output_type": "execute_result"
    }
   ],
   "source": [
    "df_25['How_Long_Delayed'].value_counts()"
   ]
  },
  {
   "cell_type": "code",
   "execution_count": 657,
   "id": "fe17faa2-6f07-4be2-a9cc-be9e3df9dad5",
   "metadata": {},
   "outputs": [],
   "source": [
    "## That's my answer. Let's save it.\n",
    "\n",
    "q3 = df_25['How_Long_Delayed'].value_counts()"
   ]
  },
  {
   "cell_type": "code",
   "execution_count": 659,
   "id": "6c0a55f3-5937-4b28-9f69-8ae2a0455202",
   "metadata": {},
   "outputs": [
    {
     "name": "stdout",
     "output_type": "stream",
     "text": [
      "<class 'pandas.core.frame.DataFrame'>\n",
      "Index: 64505 entries, 249761 to 314265\n",
      "Data columns (total 12 columns):\n",
      " #   Column                         Non-Null Count  Dtype         \n",
      "---  ------                         --------------  -----         \n",
      " 0   School_Year                    64505 non-null  object        \n",
      " 1   Run_Type                       64503 non-null  object        \n",
      " 2   Reason                         64505 non-null  object        \n",
      " 3   Schools_Serviced               64505 non-null  object        \n",
      " 4   Occurred_On                    64505 non-null  datetime64[ns]\n",
      " 5   Boro                           64501 non-null  object        \n",
      " 6   Bus_Company_Name               64505 non-null  object        \n",
      " 7   How_Long_Delayed               61282 non-null  object        \n",
      " 8   Number_Of_Students_On_The_Bus  64505 non-null  int64         \n",
      " 9   Breakdown_or_Running_Late      64505 non-null  object        \n",
      " 10  School_Age_or_PreK             64505 non-null  object        \n",
      " 11  date                           64505 non-null  object        \n",
      "dtypes: datetime64[ns](1), int64(1), object(10)\n",
      "memory usage: 6.4+ MB\n"
     ]
    }
   ],
   "source": [
    "## It'd be nice to have these numbers as a percentage.\n",
    "## I need the total number of incidents in my df.\n",
    "\n",
    "df_25.info()"
   ]
  },
  {
   "cell_type": "code",
   "execution_count": 706,
   "id": "7340320e-ff55-436b-b91e-f7a79852cfb3",
   "metadata": {},
   "outputs": [
    {
     "data": {
      "text/plain": [
       "3223"
      ]
     },
     "execution_count": 706,
     "metadata": {},
     "output_type": "execute_result"
    }
   ],
   "source": [
    "## How many null entries are there? This will be helpful to know for my chart.\n",
    "\n",
    "64505-61282"
   ]
  },
  {
   "cell_type": "code",
   "execution_count": 665,
   "id": "ef61f843-4896-4cb7-ae3a-675196c276af",
   "metadata": {},
   "outputs": [
    {
     "data": {
      "text/plain": [
       "How_Long_Delayed\n",
       "61-90 Min   32\n",
       "16-30 Min   28\n",
       "31-45 Min   20\n",
       "0-15 Min    11\n",
       "46-60 Min    8\n",
       "Name: count, dtype: float64"
      ]
     },
     "execution_count": 665,
     "metadata": {},
     "output_type": "execute_result"
    }
   ],
   "source": [
    "## There are 61282 non-null entries for delay lengths.\n",
    "\n",
    "(q3/61282)*100"
   ]
  },
  {
   "cell_type": "code",
   "execution_count": 667,
   "id": "bddc39bc-ce5e-4709-962b-de7589c217e5",
   "metadata": {},
   "outputs": [
    {
     "data": {
      "text/plain": [
       "99"
      ]
     },
     "execution_count": 667,
     "metadata": {},
     "output_type": "execute_result"
    }
   ],
   "source": [
    "## Checking my math.\n",
    "\n",
    "32 + 28 + 20 + 11 + 8"
   ]
  },
  {
   "cell_type": "code",
   "execution_count": 687,
   "id": "e8ddaae4-d963-48ea-aeb0-8747048326f1",
   "metadata": {},
   "outputs": [
    {
     "data": {
      "text/plain": [
       "How_Long_Delayed\n",
       "61-90 Min   32\n",
       "16-30 Min   28\n",
       "31-45 Min   20\n",
       "0-15 Min    11\n",
       "46-60 Min    8\n",
       "Name: count, dtype: float64"
      ]
     },
     "execution_count": 687,
     "metadata": {},
     "output_type": "execute_result"
    }
   ],
   "source": [
    "q3_percent = (q3/61282)*100\n",
    "q3_percent"
   ]
  },
  {
   "cell_type": "code",
   "execution_count": 689,
   "id": "3603aaf4-afde-4393-ab94-8efbe66b2457",
   "metadata": {},
   "outputs": [
    {
     "data": {
      "text/plain": [
       "How_Long_Delayed\n",
       "61-90 Min    32.04\n",
       "16-30 Min    28.48\n",
       "31-45 Min    20.14\n",
       "0-15 Min     10.94\n",
       "46-60 Min     8.40\n",
       "Name: count, dtype: object"
      ]
     },
     "execution_count": 689,
     "metadata": {},
     "output_type": "execute_result"
    }
   ],
   "source": [
    "## I want this rounded to two decimal places.\n",
    "\n",
    "q3_percent.map('{:.2f}'.format)"
   ]
  },
  {
   "cell_type": "code",
   "execution_count": 691,
   "id": "b42c12a6-afbe-4e37-9e93-d6a6b3677214",
   "metadata": {},
   "outputs": [
    {
     "data": {
      "text/plain": [
       "100.0"
      ]
     },
     "execution_count": 691,
     "metadata": {},
     "output_type": "execute_result"
    }
   ],
   "source": [
    "## Checking my math.\n",
    "\n",
    "32.04 + 28.48 + 20.14 + 10.94 + 8.40"
   ]
  },
  {
   "cell_type": "code",
   "execution_count": 693,
   "id": "43ba0013-56da-4cd6-b092-90283aefb007",
   "metadata": {},
   "outputs": [
    {
     "data": {
      "text/plain": [
       "array(['Heavy Traffic', 'Other', 'Mechanical Problem', 'Won`t Start',\n",
       "       'Flat Tire', 'Accident', 'Problem Run', 'Weather Conditions',\n",
       "       'Delayed by School', 'Late return from Field Trip'], dtype=object)"
      ]
     },
     "execution_count": 693,
     "metadata": {},
     "output_type": "execute_result"
    }
   ],
   "source": [
    "## Great! Now, checking most frequent delay reason.\n",
    "df_25['Reason'].unique()"
   ]
  },
  {
   "cell_type": "code",
   "execution_count": 511,
   "id": "5739c3d8-0930-41b3-8ad5-cbc62c076533",
   "metadata": {},
   "outputs": [
    {
     "data": {
      "text/plain": [
       "Reason\n",
       "Heavy Traffic                  45427\n",
       "Other                          11430\n",
       "Problem Run                     2617\n",
       "Mechanical Problem              2102\n",
       "Weather Conditions               734\n",
       "Late return from Field Trip      701\n",
       "Won`t Start                      484\n",
       "Delayed by School                374\n",
       "Flat Tire                        318\n",
       "Accident                         318\n",
       "Name: count, dtype: int64"
      ]
     },
     "execution_count": 511,
     "metadata": {},
     "output_type": "execute_result"
    }
   ],
   "source": [
    "df_25['Reason'].value_counts()"
   ]
  },
  {
   "cell_type": "code",
   "execution_count": 512,
   "id": "56c32931-45ef-47e1-ada4-2e6e7359ec49",
   "metadata": {},
   "outputs": [],
   "source": [
    "q4 = df_25['Reason'].value_counts()"
   ]
  },
  {
   "cell_type": "code",
   "execution_count": 513,
   "id": "6913bcf2-436b-4a3c-93fc-9ed1235e19ec",
   "metadata": {},
   "outputs": [
    {
     "data": {
      "text/plain": [
       "array(['G.V.C., LTD.', 'THOMAS BUSES, INC. (B2321)', 'BORO TRANSIT, INC.',\n",
       "       'L & M BUS CORP.', 'PIONEER TRANSPORTATION CORP',\n",
       "       'ANOTHER RIDE INC.', 'ALINA SERVICES CORP.',\n",
       "       'LOGAN BUS COMPANY INC.', 'LITTLE RICHIE BUS SERVICE',\n",
       "       'I & Y TRANSIT CORP', 'SELBY TRANSPORTATION',\n",
       "       'DON THOMAS BUSES, INC.', 'PRIDE TRANSPORTATION (SCH AGE)',\n",
       "       'CHILDREN`S TRANS INC', 'PHILLIPS BUS SERVICE',\n",
       "       'L & M BUS CORP (A)', 'SNT BUS INC',\n",
       "       'QUALITY TRANSPORTATION CORP.', 'LITTLE LISA BUS CO. INC.',\n",
       "       'ALLIED TRANSIT CORP.', 'G.V.C. LTD. (B2192)',\n",
       "       'HOYT TRANSPORTATION CORP.', 'CAREFUL BUS SERVICE INC (B2192)',\n",
       "       'LORINDA ENTERPRISES, LTD.', 'CAREFUL BUS',\n",
       "       'DON THOMAS BUSES, INC. (B2321)', 'EMPIRE STATE BUS CORP.',\n",
       "       'CONSOLIDATED BUS TRANSIT, INC.', 'PHILLIPSBUSSERVICE', 'GVC LTD',\n",
       "       'MAR-CAN TRANSPORT CO. INC (B2192)',\n",
       "       'FIRST STEPS TRANS INC. (B2192)', 'EMPIRE CHARTER SERVICE INC',\n",
       "       'THOMAS BUSES INC (B2192)', 'NYC SCHOOL BUS UMBRELLA SERVICES',\n",
       "       'PHILLIP BUS CORP (B2192)', 'VAN TRANS LLC (B2192)',\n",
       "       'PHILLIPBUSSERVICE', 'ALL AMERICAN SCHOOL BUS CORP.',\n",
       "       'LITTLE LINDA BUS CO.,INC.', 'CHILDREN`S TRANS INC. (B2321)',\n",
       "       'LEESEL TRANSPORTATION CORP (B2192)', 'LORISSA BUS SERVICE INC.',\n",
       "       'GRANDPA`S BUS CO., INC.'], dtype=object)"
      ]
     },
     "execution_count": 513,
     "metadata": {},
     "output_type": "execute_result"
    }
   ],
   "source": [
    "## 5. For the 2024-2025 school year, what bus company was responsible for the most delays?\n",
    "\n",
    "df_25['Bus_Company_Name'].unique()"
   ]
  },
  {
   "cell_type": "code",
   "execution_count": 514,
   "id": "023aaa44-666b-467c-89d5-7c42e791c305",
   "metadata": {},
   "outputs": [
    {
     "data": {
      "text/plain": [
       "Bus_Company_Name\n",
       "PRIDE TRANSPORTATION (SCH AGE)        19043\n",
       "PIONEER TRANSPORTATION CORP            8191\n",
       "HOYT TRANSPORTATION CORP.              3723\n",
       "ALLIED TRANSIT CORP.                   3275\n",
       "BORO TRANSIT, INC.                     3043\n",
       "EMPIRE CHARTER SERVICE INC             2598\n",
       "L & M BUS CORP (A)                     2063\n",
       "L & M BUS CORP.                        2027\n",
       "CAREFUL BUS                            1738\n",
       "DON THOMAS BUSES, INC. (B2321)         1688\n",
       "PHILLIPS BUS SERVICE                   1588\n",
       "G.V.C. LTD. (B2192)                    1547\n",
       "LITTLE RICHIE BUS SERVICE              1388\n",
       "EMPIRE STATE BUS CORP.                 1216\n",
       "SNT BUS INC                            1131\n",
       "LOGAN BUS COMPANY INC.                 1119\n",
       "LORINDA ENTERPRISES, LTD.              1098\n",
       "G.V.C., LTD.                           1090\n",
       "QUALITY TRANSPORTATION CORP.            869\n",
       "PHILLIP BUS CORP (B2192)                813\n",
       "ALINA SERVICES CORP.                    792\n",
       "CONSOLIDATED BUS TRANSIT, INC.          791\n",
       "VAN TRANS LLC (B2192)                   663\n",
       "SELBY TRANSPORTATION                    479\n",
       "MAR-CAN TRANSPORT CO. INC (B2192)       479\n",
       "THOMAS BUSES, INC. (B2321)              461\n",
       "CAREFUL BUS SERVICE INC (B2192)         325\n",
       "LITTLE LISA BUS CO. INC.                317\n",
       "DON THOMAS BUSES, INC.                  272\n",
       "THOMAS BUSES INC (B2192)                187\n",
       "FIRST STEPS TRANS INC. (B2192)          167\n",
       "CHILDREN`S TRANS INC                     73\n",
       "I & Y TRANSIT CORP                       57\n",
       "NYC SCHOOL BUS UMBRELLA SERVICES         56\n",
       "CHILDREN`S TRANS INC. (B2321)            39\n",
       "ALL AMERICAN SCHOOL BUS CORP.            33\n",
       "ANOTHER RIDE INC.                        19\n",
       "LEESEL TRANSPORTATION CORP (B2192)       19\n",
       "LITTLE LINDA BUS CO.,INC.                10\n",
       "PHILLIPSBUSSERVICE                        9\n",
       "LORISSA BUS SERVICE INC.                  3\n",
       "GRANDPA`S BUS CO., INC.                   3\n",
       "GVC LTD                                   2\n",
       "PHILLIPBUSSERVICE                         1\n",
       "Name: count, dtype: int64"
      ]
     },
     "execution_count": 514,
     "metadata": {},
     "output_type": "execute_result"
    }
   ],
   "source": [
    "df_25['Bus_Company_Name'].value_counts()"
   ]
  },
  {
   "cell_type": "code",
   "execution_count": 515,
   "id": "a5cee83c-e263-4f9f-8e3b-ee61772cb4c6",
   "metadata": {},
   "outputs": [],
   "source": [
    "q5 = df_25['Bus_Company_Name'].value_counts()"
   ]
  },
  {
   "cell_type": "code",
   "execution_count": 516,
   "id": "6927cc38-7520-47a5-8b57-ebfd0c53dbe0",
   "metadata": {},
   "outputs": [
    {
     "name": "stdout",
     "output_type": "stream",
     "text": [
      "<class 'pandas.core.frame.DataFrame'>\n",
      "Index: 64505 entries, 249761 to 314265\n",
      "Data columns (total 12 columns):\n",
      " #   Column                         Non-Null Count  Dtype         \n",
      "---  ------                         --------------  -----         \n",
      " 0   School_Year                    64505 non-null  object        \n",
      " 1   Run_Type                       64503 non-null  object        \n",
      " 2   Reason                         64505 non-null  object        \n",
      " 3   Schools_Serviced               64505 non-null  object        \n",
      " 4   Occurred_On                    64505 non-null  datetime64[ns]\n",
      " 5   Boro                           64501 non-null  object        \n",
      " 6   Bus_Company_Name               64505 non-null  object        \n",
      " 7   How_Long_Delayed               61282 non-null  object        \n",
      " 8   Number_Of_Students_On_The_Bus  64505 non-null  int64         \n",
      " 9   Breakdown_or_Running_Late      64505 non-null  object        \n",
      " 10  School_Age_or_PreK             64505 non-null  object        \n",
      " 11  date                           64505 non-null  object        \n",
      "dtypes: datetime64[ns](1), int64(1), object(10)\n",
      "memory usage: 6.4+ MB\n"
     ]
    }
   ],
   "source": [
    "## 6. For the 2024-2025 school year, what was the average number of students on the school bus?\n",
    "## I think number of students on the bus is already an integer, but I'll double check.\n",
    "\n",
    "df_25.info()"
   ]
  },
  {
   "cell_type": "code",
   "execution_count": 517,
   "id": "f70cf3a6-42d4-49bf-92ca-225fe41c5335",
   "metadata": {},
   "outputs": [
    {
     "data": {
      "text/plain": [
       "2.4346174715138362"
      ]
     },
     "execution_count": 517,
     "metadata": {},
     "output_type": "execute_result"
    }
   ],
   "source": [
    "df_25['Number_Of_Students_On_The_Bus'].mean()"
   ]
  },
  {
   "cell_type": "code",
   "execution_count": 518,
   "id": "3e22197d-191c-4065-b6ef-c9931d71c6c4",
   "metadata": {},
   "outputs": [],
   "source": [
    "q6 = df_25['Number_Of_Students_On_The_Bus'].mean()"
   ]
  },
  {
   "cell_type": "code",
   "execution_count": 519,
   "id": "922ed680-af0c-4482-bf34-3a3400b4140a",
   "metadata": {},
   "outputs": [
    {
     "data": {
      "text/plain": [
       "Run_Type\n",
       "Special Ed AM Run        37594\n",
       "Special Ed PM Run        10004\n",
       "General Ed AM Run         7063\n",
       "Pre-K/EI                  6409\n",
       "General Ed PM Run         2957\n",
       "General Ed Field Trip      255\n",
       "Special Ed Field Trip      221\n",
       "Name: count, dtype: int64"
      ]
     },
     "execution_count": 519,
     "metadata": {},
     "output_type": "execute_result"
    }
   ],
   "source": [
    "## 7. For the 2024-2025 school year, what was the most frequent run type to have delays or breakdowns?\n",
    "df_25['Run_Type'].value_counts()"
   ]
  },
  {
   "cell_type": "code",
   "execution_count": 520,
   "id": "64f6c13a-3eb6-4d4c-928e-cc78ee3d8e58",
   "metadata": {},
   "outputs": [],
   "source": [
    "q7 = df_25['Run_Type'].value_counts()"
   ]
  },
  {
   "cell_type": "code",
   "execution_count": 521,
   "id": "d91466ea-2138-4330-98fe-50b17ce00219",
   "metadata": {},
   "outputs": [],
   "source": [
    "## Last question! 8. For the 2024-2025 school year, what has been the daily average of delays per month?\n",
    "## This will be tricky. I'm asking for help from ChatGPT.\n",
    "## First, I'm converting 'date' to datetime format.\n",
    "\n",
    "df['date'] = pd.to_datetime(df['date'])"
   ]
  },
  {
   "cell_type": "code",
   "execution_count": 522,
   "id": "9866c2ca-08a8-41aa-98e3-c257f03d4495",
   "metadata": {},
   "outputs": [],
   "source": [
    "## Now, I'm adding a column for month.\n",
    "\n",
    "df['month'] = df['date'].dt.to_period('M')"
   ]
  },
  {
   "cell_type": "code",
   "execution_count": 523,
   "id": "dfc6bb29-b75f-4753-9275-ae8bc9718bec",
   "metadata": {},
   "outputs": [
    {
     "data": {
      "text/html": [
       "<div>\n",
       "<style scoped>\n",
       "    .dataframe tbody tr th:only-of-type {\n",
       "        vertical-align: middle;\n",
       "    }\n",
       "\n",
       "    .dataframe tbody tr th {\n",
       "        vertical-align: top;\n",
       "    }\n",
       "\n",
       "    .dataframe thead th {\n",
       "        text-align: right;\n",
       "    }\n",
       "</style>\n",
       "<table border=\"1\" class=\"dataframe\">\n",
       "  <thead>\n",
       "    <tr style=\"text-align: right;\">\n",
       "      <th></th>\n",
       "      <th>School_Year</th>\n",
       "      <th>Run_Type</th>\n",
       "      <th>Reason</th>\n",
       "      <th>Schools_Serviced</th>\n",
       "      <th>Occurred_On</th>\n",
       "      <th>Boro</th>\n",
       "      <th>Bus_Company_Name</th>\n",
       "      <th>How_Long_Delayed</th>\n",
       "      <th>Number_Of_Students_On_The_Bus</th>\n",
       "      <th>Breakdown_or_Running_Late</th>\n",
       "      <th>School_Age_or_PreK</th>\n",
       "      <th>date</th>\n",
       "    </tr>\n",
       "  </thead>\n",
       "  <tbody>\n",
       "    <tr>\n",
       "      <th>249761</th>\n",
       "      <td>2024-2025</td>\n",
       "      <td>Pre-K/EI</td>\n",
       "      <td>Heavy Traffic</td>\n",
       "      <td>C195</td>\n",
       "      <td>2024-09-11 07:54:00</td>\n",
       "      <td>Bronx</td>\n",
       "      <td>G.V.C., LTD.</td>\n",
       "      <td>16-30 Min</td>\n",
       "      <td>13</td>\n",
       "      <td>Running Late</td>\n",
       "      <td>Pre-K</td>\n",
       "      <td>2024-09-11</td>\n",
       "    </tr>\n",
       "    <tr>\n",
       "      <th>249762</th>\n",
       "      <td>2024-2025</td>\n",
       "      <td>Special Ed AM Run</td>\n",
       "      <td>Other</td>\n",
       "      <td>75029</td>\n",
       "      <td>2024-09-04 07:09:00</td>\n",
       "      <td>Nassau County</td>\n",
       "      <td>THOMAS BUSES, INC. (B2321)</td>\n",
       "      <td>61-90 Min</td>\n",
       "      <td>0</td>\n",
       "      <td>Running Late</td>\n",
       "      <td>School-Age</td>\n",
       "      <td>2024-09-04</td>\n",
       "    </tr>\n",
       "    <tr>\n",
       "      <th>249763</th>\n",
       "      <td>2024-2025</td>\n",
       "      <td>Special Ed AM Run</td>\n",
       "      <td>Heavy Traffic</td>\n",
       "      <td>02282</td>\n",
       "      <td>2024-09-10 06:20:00</td>\n",
       "      <td>Manhattan</td>\n",
       "      <td>BORO TRANSIT, INC.</td>\n",
       "      <td>31-45 Min</td>\n",
       "      <td>0</td>\n",
       "      <td>Running Late</td>\n",
       "      <td>School-Age</td>\n",
       "      <td>2024-09-10</td>\n",
       "    </tr>\n",
       "    <tr>\n",
       "      <th>249764</th>\n",
       "      <td>2024-2025</td>\n",
       "      <td>Pre-K/EI</td>\n",
       "      <td>Heavy Traffic</td>\n",
       "      <td>C616</td>\n",
       "      <td>2024-09-04 08:13:00</td>\n",
       "      <td>Bronx</td>\n",
       "      <td>G.V.C., LTD.</td>\n",
       "      <td>0-15 Min</td>\n",
       "      <td>10</td>\n",
       "      <td>Running Late</td>\n",
       "      <td>Pre-K</td>\n",
       "      <td>2024-09-04</td>\n",
       "    </tr>\n",
       "    <tr>\n",
       "      <th>249765</th>\n",
       "      <td>2024-2025</td>\n",
       "      <td>Pre-K/EI</td>\n",
       "      <td>Heavy Traffic</td>\n",
       "      <td>C107</td>\n",
       "      <td>2024-10-24 06:45:00</td>\n",
       "      <td>Brooklyn</td>\n",
       "      <td>L &amp; M BUS CORP.</td>\n",
       "      <td>31-45 Min</td>\n",
       "      <td>0</td>\n",
       "      <td>Running Late</td>\n",
       "      <td>Pre-K</td>\n",
       "      <td>2024-10-24</td>\n",
       "    </tr>\n",
       "    <tr>\n",
       "      <th>...</th>\n",
       "      <td>...</td>\n",
       "      <td>...</td>\n",
       "      <td>...</td>\n",
       "      <td>...</td>\n",
       "      <td>...</td>\n",
       "      <td>...</td>\n",
       "      <td>...</td>\n",
       "      <td>...</td>\n",
       "      <td>...</td>\n",
       "      <td>...</td>\n",
       "      <td>...</td>\n",
       "      <td>...</td>\n",
       "    </tr>\n",
       "    <tr>\n",
       "      <th>314261</th>\n",
       "      <td>2024-2025</td>\n",
       "      <td>Special Ed AM Run</td>\n",
       "      <td>Heavy Traffic</td>\n",
       "      <td>08015,08530</td>\n",
       "      <td>2025-05-19 06:03:00</td>\n",
       "      <td>Bronx</td>\n",
       "      <td>VAN TRANS LLC (B2192)</td>\n",
       "      <td>0-15 Min</td>\n",
       "      <td>0</td>\n",
       "      <td>Running Late</td>\n",
       "      <td>School-Age</td>\n",
       "      <td>2025-05-19</td>\n",
       "    </tr>\n",
       "    <tr>\n",
       "      <th>314262</th>\n",
       "      <td>2024-2025</td>\n",
       "      <td>Special Ed AM Run</td>\n",
       "      <td>Won`t Start</td>\n",
       "      <td>27009,27067,27202</td>\n",
       "      <td>2025-05-19 05:50:00</td>\n",
       "      <td>Queens</td>\n",
       "      <td>L &amp; M BUS CORP (A)</td>\n",
       "      <td>NaN</td>\n",
       "      <td>0</td>\n",
       "      <td>Breakdown</td>\n",
       "      <td>School-Age</td>\n",
       "      <td>2025-05-19</td>\n",
       "    </tr>\n",
       "    <tr>\n",
       "      <th>314263</th>\n",
       "      <td>2024-2025</td>\n",
       "      <td>Special Ed AM Run</td>\n",
       "      <td>Heavy Traffic</td>\n",
       "      <td>11455</td>\n",
       "      <td>2025-05-19 06:04:00</td>\n",
       "      <td>Bronx</td>\n",
       "      <td>VAN TRANS LLC (B2192)</td>\n",
       "      <td>0-15 Min</td>\n",
       "      <td>0</td>\n",
       "      <td>Running Late</td>\n",
       "      <td>School-Age</td>\n",
       "      <td>2025-05-19</td>\n",
       "    </tr>\n",
       "    <tr>\n",
       "      <th>314264</th>\n",
       "      <td>2024-2025</td>\n",
       "      <td>Special Ed AM Run</td>\n",
       "      <td>Other</td>\n",
       "      <td>13067,13461,13507,13587,13655</td>\n",
       "      <td>2025-05-19 06:04:00</td>\n",
       "      <td>Brooklyn</td>\n",
       "      <td>BORO TRANSIT, INC.</td>\n",
       "      <td>16-30 Min</td>\n",
       "      <td>0</td>\n",
       "      <td>Running Late</td>\n",
       "      <td>School-Age</td>\n",
       "      <td>2025-05-19</td>\n",
       "    </tr>\n",
       "    <tr>\n",
       "      <th>314265</th>\n",
       "      <td>2024-2025</td>\n",
       "      <td>Special Ed AM Run</td>\n",
       "      <td>Heavy Traffic</td>\n",
       "      <td>07259,07643</td>\n",
       "      <td>2025-05-19 06:05:00</td>\n",
       "      <td>Bronx</td>\n",
       "      <td>VAN TRANS LLC (B2192)</td>\n",
       "      <td>0-15 Min</td>\n",
       "      <td>0</td>\n",
       "      <td>Running Late</td>\n",
       "      <td>School-Age</td>\n",
       "      <td>2025-05-19</td>\n",
       "    </tr>\n",
       "  </tbody>\n",
       "</table>\n",
       "<p>64505 rows × 12 columns</p>\n",
       "</div>"
      ],
      "text/plain": [
       "       School_Year           Run_Type         Reason  \\\n",
       "249761   2024-2025           Pre-K/EI  Heavy Traffic   \n",
       "249762   2024-2025  Special Ed AM Run          Other   \n",
       "249763   2024-2025  Special Ed AM Run  Heavy Traffic   \n",
       "249764   2024-2025           Pre-K/EI  Heavy Traffic   \n",
       "249765   2024-2025           Pre-K/EI  Heavy Traffic   \n",
       "...            ...                ...            ...   \n",
       "314261   2024-2025  Special Ed AM Run  Heavy Traffic   \n",
       "314262   2024-2025  Special Ed AM Run    Won`t Start   \n",
       "314263   2024-2025  Special Ed AM Run  Heavy Traffic   \n",
       "314264   2024-2025  Special Ed AM Run          Other   \n",
       "314265   2024-2025  Special Ed AM Run  Heavy Traffic   \n",
       "\n",
       "                     Schools_Serviced         Occurred_On           Boro  \\\n",
       "249761                           C195 2024-09-11 07:54:00          Bronx   \n",
       "249762                          75029 2024-09-04 07:09:00  Nassau County   \n",
       "249763                          02282 2024-09-10 06:20:00      Manhattan   \n",
       "249764                           C616 2024-09-04 08:13:00          Bronx   \n",
       "249765                           C107 2024-10-24 06:45:00       Brooklyn   \n",
       "...                               ...                 ...            ...   \n",
       "314261                    08015,08530 2025-05-19 06:03:00          Bronx   \n",
       "314262              27009,27067,27202 2025-05-19 05:50:00         Queens   \n",
       "314263                          11455 2025-05-19 06:04:00          Bronx   \n",
       "314264  13067,13461,13507,13587,13655 2025-05-19 06:04:00       Brooklyn   \n",
       "314265                    07259,07643 2025-05-19 06:05:00          Bronx   \n",
       "\n",
       "                  Bus_Company_Name How_Long_Delayed  \\\n",
       "249761                G.V.C., LTD.        16-30 Min   \n",
       "249762  THOMAS BUSES, INC. (B2321)        61-90 Min   \n",
       "249763          BORO TRANSIT, INC.        31-45 Min   \n",
       "249764                G.V.C., LTD.         0-15 Min   \n",
       "249765             L & M BUS CORP.        31-45 Min   \n",
       "...                            ...              ...   \n",
       "314261       VAN TRANS LLC (B2192)         0-15 Min   \n",
       "314262          L & M BUS CORP (A)              NaN   \n",
       "314263       VAN TRANS LLC (B2192)         0-15 Min   \n",
       "314264          BORO TRANSIT, INC.        16-30 Min   \n",
       "314265       VAN TRANS LLC (B2192)         0-15 Min   \n",
       "\n",
       "        Number_Of_Students_On_The_Bus Breakdown_or_Running_Late  \\\n",
       "249761                             13              Running Late   \n",
       "249762                              0              Running Late   \n",
       "249763                              0              Running Late   \n",
       "249764                             10              Running Late   \n",
       "249765                              0              Running Late   \n",
       "...                               ...                       ...   \n",
       "314261                              0              Running Late   \n",
       "314262                              0                 Breakdown   \n",
       "314263                              0              Running Late   \n",
       "314264                              0              Running Late   \n",
       "314265                              0              Running Late   \n",
       "\n",
       "       School_Age_or_PreK        date  \n",
       "249761              Pre-K  2024-09-11  \n",
       "249762         School-Age  2024-09-04  \n",
       "249763         School-Age  2024-09-10  \n",
       "249764              Pre-K  2024-09-04  \n",
       "249765              Pre-K  2024-10-24  \n",
       "...                   ...         ...  \n",
       "314261         School-Age  2025-05-19  \n",
       "314262         School-Age  2025-05-19  \n",
       "314263         School-Age  2025-05-19  \n",
       "314264         School-Age  2025-05-19  \n",
       "314265         School-Age  2025-05-19  \n",
       "\n",
       "[64505 rows x 12 columns]"
      ]
     },
     "execution_count": 523,
     "metadata": {},
     "output_type": "execute_result"
    }
   ],
   "source": [
    "df_25"
   ]
  },
  {
   "cell_type": "code",
   "execution_count": 524,
   "id": "c44e6e0a-a95f-4935-ad4f-f7fe6b0e8305",
   "metadata": {},
   "outputs": [
    {
     "name": "stdout",
     "output_type": "stream",
     "text": [
      "<class 'pandas.core.frame.DataFrame'>\n",
      "Index: 64505 entries, 249761 to 314265\n",
      "Data columns (total 12 columns):\n",
      " #   Column                         Non-Null Count  Dtype         \n",
      "---  ------                         --------------  -----         \n",
      " 0   School_Year                    64505 non-null  object        \n",
      " 1   Run_Type                       64503 non-null  object        \n",
      " 2   Reason                         64505 non-null  object        \n",
      " 3   Schools_Serviced               64505 non-null  object        \n",
      " 4   Occurred_On                    64505 non-null  datetime64[ns]\n",
      " 5   Boro                           64501 non-null  object        \n",
      " 6   Bus_Company_Name               64505 non-null  object        \n",
      " 7   How_Long_Delayed               61282 non-null  object        \n",
      " 8   Number_Of_Students_On_The_Bus  64505 non-null  int64         \n",
      " 9   Breakdown_or_Running_Late      64505 non-null  object        \n",
      " 10  School_Age_or_PreK             64505 non-null  object        \n",
      " 11  date                           64505 non-null  object        \n",
      "dtypes: datetime64[ns](1), int64(1), object(10)\n",
      "memory usage: 6.4+ MB\n"
     ]
    }
   ],
   "source": [
    "df_25.info()"
   ]
  },
  {
   "cell_type": "code",
   "execution_count": 525,
   "id": "7db1ad18-1555-4773-a7bf-59b24a3e2833",
   "metadata": {},
   "outputs": [
    {
     "data": {
      "text/plain": [
       "date\n",
       "2024-09-03     55\n",
       "2024-09-04     59\n",
       "2024-09-05    515\n",
       "2024-09-06    271\n",
       "2024-09-09    365\n",
       "             ... \n",
       "2025-05-13    322\n",
       "2025-05-14    342\n",
       "2025-05-15    367\n",
       "2025-05-16    412\n",
       "2025-05-19    389\n",
       "Length: 178, dtype: int64"
      ]
     },
     "execution_count": 525,
     "metadata": {},
     "output_type": "execute_result"
    }
   ],
   "source": [
    "## Period[M] is a type of value that indicates a period of time grouped by month.\n",
    "## Now, I need the number of delays per day.\n",
    "\n",
    "df_25.groupby(['date']).size()"
   ]
  },
  {
   "cell_type": "code",
   "execution_count": 526,
   "id": "070ecd95-ec2f-4a07-ab68-86b5abd75ea0",
   "metadata": {},
   "outputs": [],
   "source": [
    "## Now, I want to store it in a new dataframe.\n",
    "\n",
    "daily_delays = df_25.groupby(['date']).size().reset_index(name='delays_per_day')"
   ]
  },
  {
   "cell_type": "code",
   "execution_count": 527,
   "id": "255103b0-3ffd-4c72-9849-150e7c40b46b",
   "metadata": {},
   "outputs": [
    {
     "data": {
      "text/html": [
       "<div>\n",
       "<style scoped>\n",
       "    .dataframe tbody tr th:only-of-type {\n",
       "        vertical-align: middle;\n",
       "    }\n",
       "\n",
       "    .dataframe tbody tr th {\n",
       "        vertical-align: top;\n",
       "    }\n",
       "\n",
       "    .dataframe thead th {\n",
       "        text-align: right;\n",
       "    }\n",
       "</style>\n",
       "<table border=\"1\" class=\"dataframe\">\n",
       "  <thead>\n",
       "    <tr style=\"text-align: right;\">\n",
       "      <th></th>\n",
       "      <th>date</th>\n",
       "      <th>delays_per_day</th>\n",
       "    </tr>\n",
       "  </thead>\n",
       "  <tbody>\n",
       "    <tr>\n",
       "      <th>0</th>\n",
       "      <td>2024-09-03</td>\n",
       "      <td>55</td>\n",
       "    </tr>\n",
       "    <tr>\n",
       "      <th>1</th>\n",
       "      <td>2024-09-04</td>\n",
       "      <td>59</td>\n",
       "    </tr>\n",
       "    <tr>\n",
       "      <th>2</th>\n",
       "      <td>2024-09-05</td>\n",
       "      <td>515</td>\n",
       "    </tr>\n",
       "    <tr>\n",
       "      <th>3</th>\n",
       "      <td>2024-09-06</td>\n",
       "      <td>271</td>\n",
       "    </tr>\n",
       "    <tr>\n",
       "      <th>4</th>\n",
       "      <td>2024-09-09</td>\n",
       "      <td>365</td>\n",
       "    </tr>\n",
       "    <tr>\n",
       "      <th>...</th>\n",
       "      <td>...</td>\n",
       "      <td>...</td>\n",
       "    </tr>\n",
       "    <tr>\n",
       "      <th>173</th>\n",
       "      <td>2025-05-13</td>\n",
       "      <td>322</td>\n",
       "    </tr>\n",
       "    <tr>\n",
       "      <th>174</th>\n",
       "      <td>2025-05-14</td>\n",
       "      <td>342</td>\n",
       "    </tr>\n",
       "    <tr>\n",
       "      <th>175</th>\n",
       "      <td>2025-05-15</td>\n",
       "      <td>367</td>\n",
       "    </tr>\n",
       "    <tr>\n",
       "      <th>176</th>\n",
       "      <td>2025-05-16</td>\n",
       "      <td>412</td>\n",
       "    </tr>\n",
       "    <tr>\n",
       "      <th>177</th>\n",
       "      <td>2025-05-19</td>\n",
       "      <td>389</td>\n",
       "    </tr>\n",
       "  </tbody>\n",
       "</table>\n",
       "<p>178 rows × 2 columns</p>\n",
       "</div>"
      ],
      "text/plain": [
       "           date  delays_per_day\n",
       "0    2024-09-03              55\n",
       "1    2024-09-04              59\n",
       "2    2024-09-05             515\n",
       "3    2024-09-06             271\n",
       "4    2024-09-09             365\n",
       "..          ...             ...\n",
       "173  2025-05-13             322\n",
       "174  2025-05-14             342\n",
       "175  2025-05-15             367\n",
       "176  2025-05-16             412\n",
       "177  2025-05-19             389\n",
       "\n",
       "[178 rows x 2 columns]"
      ]
     },
     "execution_count": 527,
     "metadata": {},
     "output_type": "execute_result"
    }
   ],
   "source": [
    "daily_delays"
   ]
  },
  {
   "cell_type": "code",
   "execution_count": 528,
   "id": "d25cb400-5e3f-4b5a-9806-7fcab787d961",
   "metadata": {},
   "outputs": [
    {
     "data": {
      "text/html": [
       "<div>\n",
       "<style scoped>\n",
       "    .dataframe tbody tr th:only-of-type {\n",
       "        vertical-align: middle;\n",
       "    }\n",
       "\n",
       "    .dataframe tbody tr th {\n",
       "        vertical-align: top;\n",
       "    }\n",
       "\n",
       "    .dataframe thead th {\n",
       "        text-align: right;\n",
       "    }\n",
       "</style>\n",
       "<table border=\"1\" class=\"dataframe\">\n",
       "  <thead>\n",
       "    <tr style=\"text-align: right;\">\n",
       "      <th></th>\n",
       "      <th>date</th>\n",
       "      <th>delays_per_day</th>\n",
       "      <th>month</th>\n",
       "    </tr>\n",
       "  </thead>\n",
       "  <tbody>\n",
       "    <tr>\n",
       "      <th>0</th>\n",
       "      <td>2024-09-03</td>\n",
       "      <td>55</td>\n",
       "      <td>2024-09</td>\n",
       "    </tr>\n",
       "    <tr>\n",
       "      <th>1</th>\n",
       "      <td>2024-09-04</td>\n",
       "      <td>59</td>\n",
       "      <td>2024-09</td>\n",
       "    </tr>\n",
       "    <tr>\n",
       "      <th>2</th>\n",
       "      <td>2024-09-05</td>\n",
       "      <td>515</td>\n",
       "      <td>2024-09</td>\n",
       "    </tr>\n",
       "    <tr>\n",
       "      <th>3</th>\n",
       "      <td>2024-09-06</td>\n",
       "      <td>271</td>\n",
       "      <td>2024-09</td>\n",
       "    </tr>\n",
       "    <tr>\n",
       "      <th>4</th>\n",
       "      <td>2024-09-09</td>\n",
       "      <td>365</td>\n",
       "      <td>2024-09</td>\n",
       "    </tr>\n",
       "    <tr>\n",
       "      <th>...</th>\n",
       "      <td>...</td>\n",
       "      <td>...</td>\n",
       "      <td>...</td>\n",
       "    </tr>\n",
       "    <tr>\n",
       "      <th>173</th>\n",
       "      <td>2025-05-13</td>\n",
       "      <td>322</td>\n",
       "      <td>2025-05</td>\n",
       "    </tr>\n",
       "    <tr>\n",
       "      <th>174</th>\n",
       "      <td>2025-05-14</td>\n",
       "      <td>342</td>\n",
       "      <td>2025-05</td>\n",
       "    </tr>\n",
       "    <tr>\n",
       "      <th>175</th>\n",
       "      <td>2025-05-15</td>\n",
       "      <td>367</td>\n",
       "      <td>2025-05</td>\n",
       "    </tr>\n",
       "    <tr>\n",
       "      <th>176</th>\n",
       "      <td>2025-05-16</td>\n",
       "      <td>412</td>\n",
       "      <td>2025-05</td>\n",
       "    </tr>\n",
       "    <tr>\n",
       "      <th>177</th>\n",
       "      <td>2025-05-19</td>\n",
       "      <td>389</td>\n",
       "      <td>2025-05</td>\n",
       "    </tr>\n",
       "  </tbody>\n",
       "</table>\n",
       "<p>178 rows × 3 columns</p>\n",
       "</div>"
      ],
      "text/plain": [
       "           date  delays_per_day    month\n",
       "0    2024-09-03              55  2024-09\n",
       "1    2024-09-04              59  2024-09\n",
       "2    2024-09-05             515  2024-09\n",
       "3    2024-09-06             271  2024-09\n",
       "4    2024-09-09             365  2024-09\n",
       "..          ...             ...      ...\n",
       "173  2025-05-13             322  2025-05\n",
       "174  2025-05-14             342  2025-05\n",
       "175  2025-05-15             367  2025-05\n",
       "176  2025-05-16             412  2025-05\n",
       "177  2025-05-19             389  2025-05\n",
       "\n",
       "[178 rows x 3 columns]"
      ]
     },
     "execution_count": 528,
     "metadata": {},
     "output_type": "execute_result"
    }
   ],
   "source": [
    "## Now, I need to add my month column in.\n",
    "\n",
    "daily_delays['month'] = pd.to_datetime(daily_delays['date']).dt.to_period('M')\n",
    "daily_delays"
   ]
  },
  {
   "cell_type": "code",
   "execution_count": 529,
   "id": "14d99b18-fae9-4d2d-8cb0-07f9d01c046d",
   "metadata": {},
   "outputs": [
    {
     "data": {
      "text/plain": [
       "month\n",
       "2024-09   366\n",
       "2024-10   395\n",
       "2024-11   398\n",
       "2024-12   357\n",
       "2025-01   422\n",
       "2025-02   335\n",
       "2025-03   328\n",
       "2025-04   298\n",
       "2025-05   362\n",
       "Freq: M, Name: delays_per_day, dtype: float64"
      ]
     },
     "execution_count": 529,
     "metadata": {},
     "output_type": "execute_result"
    }
   ],
   "source": [
    "## Now, I need the average per month.\n",
    "\n",
    "daily_delays.groupby('month')['delays_per_day'].mean()"
   ]
  },
  {
   "cell_type": "code",
   "execution_count": 530,
   "id": "a63cc155-d690-49bd-ad36-bf857f6d9857",
   "metadata": {},
   "outputs": [],
   "source": [
    "## That's question 8!\n",
    "\n",
    "q8 = daily_delays.groupby('month')['delays_per_day'].mean()"
   ]
  },
  {
   "cell_type": "markdown",
   "id": "a8de4956-1754-4816-8b20-0bcbf946c600",
   "metadata": {},
   "source": [
    "## Answers"
   ]
  },
  {
   "cell_type": "markdown",
   "id": "6906737e-6f1a-4e29-9482-13714c7063db",
   "metadata": {},
   "source": [
    "#### 1. Of the four school years I am analyzing, which year had the most delays?"
   ]
  },
  {
   "cell_type": "code",
   "execution_count": 533,
   "id": "dde32aea-615a-40ef-8a33-0f4071ef0b24",
   "metadata": {},
   "outputs": [
    {
     "data": {
      "text/plain": [
       "School_Year\n",
       "2021-2022    70179\n",
       "2022-2023    94651\n",
       "2023-2024    84931\n",
       "2024-2025    64505\n",
       "dtype: int64"
      ]
     },
     "execution_count": 533,
     "metadata": {},
     "output_type": "execute_result"
    }
   ],
   "source": [
    "q1"
   ]
  },
  {
   "cell_type": "markdown",
   "id": "5802a26a-dd6c-4bf1-8189-4a1d70afa511",
   "metadata": {},
   "source": [
    "Answer: 2022-2O23 — though remember that the 2024-2025 school year still has over a month to go!"
   ]
  },
  {
   "cell_type": "markdown",
   "id": "6a3e6f1c-1a48-4e98-963e-62d3276791fc",
   "metadata": {},
   "source": [
    "#### 2. What was the average daily delay per year?"
   ]
  },
  {
   "cell_type": "code",
   "execution_count": 536,
   "id": "90d8c09b-d796-49de-9d40-6e9ed8e27945",
   "metadata": {},
   "outputs": [
    {
     "data": {
      "text/plain": [
       "School_Year\n",
       "2021-2022   339\n",
       "2022-2023   462\n",
       "2023-2024   418\n",
       "2024-2025   362\n",
       "dtype: float64"
      ]
     },
     "execution_count": 536,
     "metadata": {},
     "output_type": "execute_result"
    }
   ],
   "source": [
    "q2"
   ]
  },
  {
   "cell_type": "markdown",
   "id": "0804a434-370d-4c13-91d7-fe13390ed5ad",
   "metadata": {},
   "source": [
    "#### 3. For the 2024-2025 school year, what was the most frequent delay length?"
   ]
  },
  {
   "cell_type": "code",
   "execution_count": 538,
   "id": "2e538a43-22b7-445a-aafa-2049342387e0",
   "metadata": {},
   "outputs": [
    {
     "data": {
      "text/plain": [
       "How_Long_Delayed\n",
       "61-90 Min    19636\n",
       "16-30 Min    17451\n",
       "31-45 Min    12340\n",
       "0-15 Min      6707\n",
       "46-60 Min     5148\n",
       "Name: count, dtype: int64"
      ]
     },
     "execution_count": 538,
     "metadata": {},
     "output_type": "execute_result"
    }
   ],
   "source": [
    "q3"
   ]
  },
  {
   "cell_type": "code",
   "execution_count": 695,
   "id": "49e2375f-f2a6-4523-ac60-30c0dbcc882a",
   "metadata": {},
   "outputs": [
    {
     "data": {
      "text/plain": [
       "How_Long_Delayed\n",
       "61-90 Min   32\n",
       "16-30 Min   28\n",
       "31-45 Min   20\n",
       "0-15 Min    11\n",
       "46-60 Min    8\n",
       "Name: count, dtype: float64"
      ]
     },
     "execution_count": 695,
     "metadata": {},
     "output_type": "execute_result"
    }
   ],
   "source": [
    "q3_percent"
   ]
  },
  {
   "cell_type": "code",
   "execution_count": 700,
   "id": "8b6a6cd3-d0f7-45d1-9d74-a4326ff3967b",
   "metadata": {},
   "outputs": [
    {
     "data": {
      "text/plain": [
       "How_Long_Delayed\n",
       "61-90 Min    32.04\n",
       "16-30 Min    28.48\n",
       "31-45 Min    20.14\n",
       "0-15 Min     10.94\n",
       "46-60 Min     8.40\n",
       "Name: count, dtype: object"
      ]
     },
     "execution_count": 700,
     "metadata": {},
     "output_type": "execute_result"
    }
   ],
   "source": [
    "q3_percent.map('{:.2f}'.format)"
   ]
  },
  {
   "cell_type": "markdown",
   "id": "a31c54ec-5c3d-483b-be92-89541f0c0a87",
   "metadata": {},
   "source": [
    "Answer: 61-90 Min  "
   ]
  },
  {
   "cell_type": "markdown",
   "id": "af56b823-0fb0-46a8-8991-267062628e30",
   "metadata": {},
   "source": [
    "#### 4. For the 2024-2025 school year, what was the most frequent reason for a delay?"
   ]
  },
  {
   "cell_type": "code",
   "execution_count": 541,
   "id": "2fff7513-ff15-49de-9f26-ea22d04805b2",
   "metadata": {},
   "outputs": [
    {
     "data": {
      "text/plain": [
       "Reason\n",
       "Heavy Traffic                  45427\n",
       "Other                          11430\n",
       "Problem Run                     2617\n",
       "Mechanical Problem              2102\n",
       "Weather Conditions               734\n",
       "Late return from Field Trip      701\n",
       "Won`t Start                      484\n",
       "Delayed by School                374\n",
       "Flat Tire                        318\n",
       "Accident                         318\n",
       "Name: count, dtype: int64"
      ]
     },
     "execution_count": 541,
     "metadata": {},
     "output_type": "execute_result"
    }
   ],
   "source": [
    "q4"
   ]
  },
  {
   "cell_type": "markdown",
   "id": "96506faf-3771-40bb-9181-c1bb6d52868e",
   "metadata": {},
   "source": [
    "Answer: Heavy Traffic"
   ]
  },
  {
   "cell_type": "markdown",
   "id": "49fd5d11-b880-49ae-bd9c-c738d4a38969",
   "metadata": {},
   "source": [
    "#### 5. For the 2024-2025 school year, what bus company was responsible for the most delays?"
   ]
  },
  {
   "cell_type": "code",
   "execution_count": 544,
   "id": "61e8126c-7b26-4ea1-9054-76a82b3000ea",
   "metadata": {},
   "outputs": [
    {
     "data": {
      "text/plain": [
       "Bus_Company_Name\n",
       "PRIDE TRANSPORTATION (SCH AGE)        19043\n",
       "PIONEER TRANSPORTATION CORP            8191\n",
       "HOYT TRANSPORTATION CORP.              3723\n",
       "ALLIED TRANSIT CORP.                   3275\n",
       "BORO TRANSIT, INC.                     3043\n",
       "EMPIRE CHARTER SERVICE INC             2598\n",
       "L & M BUS CORP (A)                     2063\n",
       "L & M BUS CORP.                        2027\n",
       "CAREFUL BUS                            1738\n",
       "DON THOMAS BUSES, INC. (B2321)         1688\n",
       "PHILLIPS BUS SERVICE                   1588\n",
       "G.V.C. LTD. (B2192)                    1547\n",
       "LITTLE RICHIE BUS SERVICE              1388\n",
       "EMPIRE STATE BUS CORP.                 1216\n",
       "SNT BUS INC                            1131\n",
       "LOGAN BUS COMPANY INC.                 1119\n",
       "LORINDA ENTERPRISES, LTD.              1098\n",
       "G.V.C., LTD.                           1090\n",
       "QUALITY TRANSPORTATION CORP.            869\n",
       "PHILLIP BUS CORP (B2192)                813\n",
       "ALINA SERVICES CORP.                    792\n",
       "CONSOLIDATED BUS TRANSIT, INC.          791\n",
       "VAN TRANS LLC (B2192)                   663\n",
       "SELBY TRANSPORTATION                    479\n",
       "MAR-CAN TRANSPORT CO. INC (B2192)       479\n",
       "THOMAS BUSES, INC. (B2321)              461\n",
       "CAREFUL BUS SERVICE INC (B2192)         325\n",
       "LITTLE LISA BUS CO. INC.                317\n",
       "DON THOMAS BUSES, INC.                  272\n",
       "THOMAS BUSES INC (B2192)                187\n",
       "FIRST STEPS TRANS INC. (B2192)          167\n",
       "CHILDREN`S TRANS INC                     73\n",
       "I & Y TRANSIT CORP                       57\n",
       "NYC SCHOOL BUS UMBRELLA SERVICES         56\n",
       "CHILDREN`S TRANS INC. (B2321)            39\n",
       "ALL AMERICAN SCHOOL BUS CORP.            33\n",
       "ANOTHER RIDE INC.                        19\n",
       "LEESEL TRANSPORTATION CORP (B2192)       19\n",
       "LITTLE LINDA BUS CO.,INC.                10\n",
       "PHILLIPSBUSSERVICE                        9\n",
       "LORISSA BUS SERVICE INC.                  3\n",
       "GRANDPA`S BUS CO., INC.                   3\n",
       "GVC LTD                                   2\n",
       "PHILLIPBUSSERVICE                         1\n",
       "Name: count, dtype: int64"
      ]
     },
     "execution_count": 544,
     "metadata": {},
     "output_type": "execute_result"
    }
   ],
   "source": [
    "q5"
   ]
  },
  {
   "cell_type": "markdown",
   "id": "b2b57e04-c8ab-4d06-9e87-e88485972929",
   "metadata": {},
   "source": [
    "Answer: PRIDE TRANSPORTATION (SCH AGE)"
   ]
  },
  {
   "cell_type": "markdown",
   "id": "09ed06d5-1ef2-41ad-8f93-78297508e9df",
   "metadata": {},
   "source": [
    "#### 6. For the 2024-2025 school year, what was the average number of students on the school bus for each delay?"
   ]
  },
  {
   "cell_type": "code",
   "execution_count": 547,
   "id": "4ae6cc36-aa86-449c-aab3-61fe039c4824",
   "metadata": {},
   "outputs": [
    {
     "data": {
      "text/plain": [
       "2.4346174715138362"
      ]
     },
     "execution_count": 547,
     "metadata": {},
     "output_type": "execute_result"
    }
   ],
   "source": [
    "q6"
   ]
  },
  {
   "cell_type": "markdown",
   "id": "1ed55b22-848b-4d89-9770-571adf225292",
   "metadata": {},
   "source": [
    "#### 7. For the 2024-2025 school year, what was the most frequent run type to have delays or breakdowns?"
   ]
  },
  {
   "cell_type": "code",
   "execution_count": 549,
   "id": "27303edc-129e-400a-92b9-e0ffe73d95be",
   "metadata": {},
   "outputs": [
    {
     "data": {
      "text/plain": [
       "Run_Type\n",
       "Special Ed AM Run        37594\n",
       "Special Ed PM Run        10004\n",
       "General Ed AM Run         7063\n",
       "Pre-K/EI                  6409\n",
       "General Ed PM Run         2957\n",
       "General Ed Field Trip      255\n",
       "Special Ed Field Trip      221\n",
       "Name: count, dtype: int64"
      ]
     },
     "execution_count": 549,
     "metadata": {},
     "output_type": "execute_result"
    }
   ],
   "source": [
    "q7"
   ]
  },
  {
   "cell_type": "markdown",
   "id": "b305c3e0-6ff1-4142-a53d-5e828b9223a6",
   "metadata": {},
   "source": [
    "Answer: Special Ed AM Runs"
   ]
  },
  {
   "cell_type": "markdown",
   "id": "721885a9-1960-4481-a11c-bb2c7f37b8c4",
   "metadata": {},
   "source": [
    "#### 8. For the 2024-2025 school year, what has been the daily average of delays per month?"
   ]
  },
  {
   "cell_type": "code",
   "execution_count": 552,
   "id": "f0c7de35-518d-4ab0-af73-7cdc6b599a91",
   "metadata": {},
   "outputs": [
    {
     "data": {
      "text/plain": [
       "month\n",
       "2024-09   366\n",
       "2024-10   395\n",
       "2024-11   398\n",
       "2024-12   357\n",
       "2025-01   422\n",
       "2025-02   335\n",
       "2025-03   328\n",
       "2025-04   298\n",
       "2025-05   362\n",
       "Freq: M, Name: delays_per_day, dtype: float64"
      ]
     },
     "execution_count": 552,
     "metadata": {},
     "output_type": "execute_result"
    }
   ],
   "source": [
    "q8"
   ]
  },
  {
   "cell_type": "markdown",
   "id": "6b7c70ef-edce-4c45-8969-409aff821314",
   "metadata": {},
   "source": [
    "This analysis gave me one more question: What is the most frequent delay time for those Special Ed AM Runs?"
   ]
  },
  {
   "cell_type": "code",
   "execution_count": 554,
   "id": "f10bef4f-b53c-4cd8-8751-57c1fc401982",
   "metadata": {},
   "outputs": [],
   "source": [
    "special_ed_am = df_25[df_25['Run_Type'] == 'Special Ed AM Run']"
   ]
  },
  {
   "cell_type": "code",
   "execution_count": 555,
   "id": "cbb0445e-652b-40cf-8d52-c1267466bbbf",
   "metadata": {},
   "outputs": [
    {
     "data": {
      "text/plain": [
       "How_Long_Delayed\n",
       "61-90 Min    12365\n",
       "16-30 Min    10841\n",
       "31-45 Min     5100\n",
       "0-15 Min      4828\n",
       "46-60 Min     2515\n",
       "Name: count, dtype: int64"
      ]
     },
     "execution_count": 555,
     "metadata": {},
     "output_type": "execute_result"
    }
   ],
   "source": [
    "special_ed_am['How_Long_Delayed'].value_counts()"
   ]
  },
  {
   "cell_type": "code",
   "execution_count": 556,
   "id": "f729fa73-9481-4321-a02f-9c43a804de4b",
   "metadata": {},
   "outputs": [
    {
     "data": {
      "text/plain": [
       "How_Long_Delayed\n",
       "61-90 Min    19636\n",
       "16-30 Min    17451\n",
       "31-45 Min    12340\n",
       "0-15 Min      6707\n",
       "46-60 Min     5148\n",
       "Name: count, dtype: int64"
      ]
     },
     "execution_count": 556,
     "metadata": {},
     "output_type": "execute_result"
    }
   ],
   "source": [
    "## Is that consistent with the overall length of delays?\n",
    "\n",
    "q3"
   ]
  },
  {
   "cell_type": "code",
   "execution_count": 697,
   "id": "5d693f25-5590-4c5f-80b2-419e28bb176d",
   "metadata": {},
   "outputs": [],
   "source": [
    "## It is."
   ]
  },
  {
   "cell_type": "markdown",
   "id": "ff136634-9e81-4fbf-89be-5aaf9edd8d18",
   "metadata": {},
   "source": [
    "I'm curious about the reason for the delays too."
   ]
  },
  {
   "cell_type": "code",
   "execution_count": 558,
   "id": "03f1b66d-8a7e-49de-8ff5-4f6f85be0f90",
   "metadata": {},
   "outputs": [
    {
     "data": {
      "text/plain": [
       "Reason\n",
       "Heavy Traffic                  26401\n",
       "Other                           7051\n",
       "Problem Run                     1673\n",
       "Mechanical Problem              1227\n",
       "Weather Conditions               397\n",
       "Won`t Start                      318\n",
       "Flat Tire                        211\n",
       "Accident                         143\n",
       "Delayed by School                107\n",
       "Late return from Field Trip       66\n",
       "Name: count, dtype: int64"
      ]
     },
     "execution_count": 558,
     "metadata": {},
     "output_type": "execute_result"
    }
   ],
   "source": [
    "special_ed_am['Reason'].value_counts()"
   ]
  },
  {
   "cell_type": "code",
   "execution_count": 559,
   "id": "fae120bf-f982-467e-b4d3-df1120ee619b",
   "metadata": {},
   "outputs": [
    {
     "data": {
      "text/plain": [
       "Reason\n",
       "Heavy Traffic                  45427\n",
       "Other                          11430\n",
       "Problem Run                     2617\n",
       "Mechanical Problem              2102\n",
       "Weather Conditions               734\n",
       "Late return from Field Trip      701\n",
       "Won`t Start                      484\n",
       "Delayed by School                374\n",
       "Flat Tire                        318\n",
       "Accident                         318\n",
       "Name: count, dtype: int64"
      ]
     },
     "execution_count": 559,
     "metadata": {},
     "output_type": "execute_result"
    }
   ],
   "source": [
    "q4"
   ]
  },
  {
   "cell_type": "code",
   "execution_count": 560,
   "id": "9e8fad62-a8d8-4a4b-a632-05c491555b4f",
   "metadata": {},
   "outputs": [],
   "source": [
    "## Pretty consistent."
   ]
  },
  {
   "cell_type": "markdown",
   "id": "002173c4-7025-400a-a0b5-6624c3f172a1",
   "metadata": {},
   "source": [
    "That concludes my data analysis, which will inform my final reporting project for Advanced Data Reporting, spring 2025. Thanks for reading!"
   ]
  }
 ],
 "metadata": {
  "kernelspec": {
   "display_name": "Python [conda env:base] *",
   "language": "python",
   "name": "conda-base-py"
  },
  "language_info": {
   "codemirror_mode": {
    "name": "ipython",
    "version": 3
   },
   "file_extension": ".py",
   "mimetype": "text/x-python",
   "name": "python",
   "nbconvert_exporter": "python",
   "pygments_lexer": "ipython3",
   "version": "3.12.7"
  }
 },
 "nbformat": 4,
 "nbformat_minor": 5
}
